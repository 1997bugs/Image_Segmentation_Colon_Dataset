{
 "cells": [
  {
   "cell_type": "markdown",
   "metadata": {
    "papermill": {
     "duration": 0.017057,
     "end_time": "2021-04-24T13:20:43.131309",
     "exception": false,
     "start_time": "2021-04-24T13:20:43.114252",
     "status": "completed"
    },
    "tags": []
   },
   "source": [
    "# Submission notebook"
   ]
  },
  {
   "cell_type": "markdown",
   "metadata": {
    "papermill": {
     "duration": 0.01534,
     "end_time": "2021-04-24T13:20:43.162327",
     "exception": false,
     "start_time": "2021-04-24T13:20:43.146987",
     "status": "completed"
    },
    "tags": []
   },
   "source": [
    "--------------------------"
   ]
  },
  {
   "cell_type": "markdown",
   "metadata": {
    "papermill": {
     "duration": 0.015363,
     "end_time": "2021-04-24T13:20:43.255425",
     "exception": false,
     "start_time": "2021-04-24T13:20:43.240062",
     "status": "completed"
    },
    "tags": []
   },
   "source": [
    "## Load libraries"
   ]
  },
  {
   "cell_type": "code",
   "execution_count": 13,
   "metadata": {
    "_cell_guid": "b1076dfc-b9ad-4769-8c92-a6c4dae69d19",
    "_uuid": "8f2839f25d086af736a60e9eeb907d3b93b6e0e5",
    "execution": {
     "iopub.execute_input": "2021-04-24T13:20:43.297905Z",
     "iopub.status.busy": "2021-04-24T13:20:43.296967Z",
     "iopub.status.idle": "2021-04-24T13:20:47.084250Z",
     "shell.execute_reply": "2021-04-24T13:20:47.082911Z"
    },
    "papermill": {
     "duration": 3.813372,
     "end_time": "2021-04-24T13:20:47.084398",
     "exception": false,
     "start_time": "2021-04-24T13:20:43.271026",
     "status": "completed"
    },
    "tags": []
   },
   "outputs": [],
   "source": [
    "import gc\n",
    "import os\n",
    "import random\n",
    "import sys\n",
    "import time\n",
    "import warnings\n",
    "warnings.simplefilter(\"ignore\")\n",
    "\n",
    "#import pdb\n",
    "#import zipfile\n",
    "#import pydicom\n",
    "from albumentations import *\n",
    "from albumentations.pytorch import ToTensor\n",
    "import cv2\n",
    "from matplotlib import pyplot as plt\n",
    "import numpy as np\n",
    "import pandas as pd\n",
    "from PIL import Image, ImageFilter\n",
    "import rasterio\n",
    "from rasterio.windows import Window\n",
    "from sklearn.model_selection import KFold\n",
    "import tifffile as tiff\n",
    "import torch\n",
    "import torch.backends.cudnn as cudnn\n",
    "import torch.nn as nn\n",
    "from torch.nn import functional as F\n",
    "import torch.optim as optim\n",
    "from torch.optim.lr_scheduler import ReduceLROnPlateau\n",
    "from torch.utils.data import DataLoader, Dataset, sampler\n",
    "from tqdm import tqdm_notebook as tqdm"
   ]
  },
  {
   "cell_type": "code",
   "execution_count": 14,
   "metadata": {},
   "outputs": [],
   "source": [
    "import segmentation_models_pytorch as smp"
   ]
  },
  {
   "cell_type": "code",
   "execution_count": 2,
   "metadata": {
    "execution": {
     "iopub.execute_input": "2021-04-24T13:20:47.152830Z",
     "iopub.status.busy": "2021-04-24T13:20:47.152054Z",
     "iopub.status.idle": "2021-04-24T13:20:51.041510Z",
     "shell.execute_reply": "2021-04-24T13:20:51.040150Z"
    },
    "papermill": {
     "duration": 3.910807,
     "end_time": "2021-04-24T13:20:51.041664",
     "exception": false,
     "start_time": "2021-04-24T13:20:47.130857",
     "status": "completed"
    },
    "tags": []
   },
   "outputs": [],
   "source": [
    "\n"
   ]
  },
  {
   "cell_type": "markdown",
   "metadata": {
    "papermill": {
     "duration": 0.015099,
     "end_time": "2021-04-24T13:20:51.072786",
     "exception": false,
     "start_time": "2021-04-24T13:20:51.057687",
     "status": "completed"
    },
    "tags": []
   },
   "source": [
    "##  Set parameters"
   ]
  },
  {
   "cell_type": "code",
   "execution_count": 15,
   "metadata": {
    "execution": {
     "iopub.execute_input": "2021-04-24T13:20:51.111405Z",
     "iopub.status.busy": "2021-04-24T13:20:51.110521Z",
     "iopub.status.idle": "2021-04-24T13:20:51.117953Z",
     "shell.execute_reply": "2021-04-24T13:20:51.117301Z"
    },
    "papermill": {
     "duration": 0.029645,
     "end_time": "2021-04-24T13:20:51.118068",
     "exception": false,
     "start_time": "2021-04-24T13:20:51.088423",
     "status": "completed"
    },
    "tags": []
   },
   "outputs": [],
   "source": [
    "def set_seed(seed=46):\n",
    "    torch.manual_seed(seed)\n",
    "    torch.cuda.manual_seed(seed)\n",
    "    np.random.seed(seed)\n",
    "    random.seed(seed)\n",
    "    torch.backends.cudnn.deterministic = True\n",
    "set_seed(46)"
   ]
  },
  {
   "cell_type": "markdown",
   "metadata": {
    "papermill": {
     "duration": 0.016815,
     "end_time": "2021-04-24T13:20:51.150681",
     "exception": false,
     "start_time": "2021-04-24T13:20:51.133866",
     "status": "completed"
    },
    "tags": []
   },
   "source": [
    "To save time, the number of \"folds\" is smaller. \n",
    "These days, depending on the model, I think it's more common to use 5 ~ 10."
   ]
  },
  {
   "cell_type": "code",
   "execution_count": 35,
   "metadata": {
    "execution": {
     "iopub.execute_input": "2021-04-24T13:20:51.925539Z",
     "iopub.status.busy": "2021-04-24T13:20:51.924817Z",
     "iopub.status.idle": "2021-04-24T13:20:51.936997Z",
     "shell.execute_reply": "2021-04-24T13:20:51.936064Z"
    },
    "papermill": {
     "duration": 0.769972,
     "end_time": "2021-04-24T13:20:51.937125",
     "exception": false,
     "start_time": "2021-04-24T13:20:51.167153",
     "status": "completed"
    },
    "tags": []
   },
   "outputs": [],
   "source": [
    "fold = 0\n",
    "nfolds = 5\n",
    "reduce = 4\n",
    "sz = 256\n",
    "\n",
    "BATCH_SIZE = 2\n",
    "DEVICE = ('cuda' if torch.cuda.is_available() else 'cpu')\n",
    "NUM_WORKERS = 2\n",
    "SEED = 2020\n",
    "TH = 0.50  #threshold for positive predictions\n",
    "\n",
    "DATA = 'test'\n",
    "LABELS = 'train.csv'\n",
    "df_sample = pd.read_csv('test.csv')"
   ]
  },
  {
   "cell_type": "code",
   "execution_count": 38,
   "metadata": {},
   "outputs": [
    {
     "data": {
      "text/html": [
       "<div>\n",
       "<style scoped>\n",
       "    .dataframe tbody tr th:only-of-type {\n",
       "        vertical-align: middle;\n",
       "    }\n",
       "\n",
       "    .dataframe tbody tr th {\n",
       "        vertical-align: top;\n",
       "    }\n",
       "\n",
       "    .dataframe thead th {\n",
       "        text-align: right;\n",
       "    }\n",
       "</style>\n",
       "<table border=\"1\" class=\"dataframe\">\n",
       "  <thead>\n",
       "    <tr style=\"text-align: right;\">\n",
       "      <th></th>\n",
       "      <th>id</th>\n",
       "      <th>predicted</th>\n",
       "    </tr>\n",
       "  </thead>\n",
       "  <tbody>\n",
       "    <tr>\n",
       "      <th>0</th>\n",
       "      <td>CL_HandE_1234_B004_bottomleft</td>\n",
       "      <td>NaN</td>\n",
       "    </tr>\n",
       "    <tr>\n",
       "      <th>1</th>\n",
       "      <td>HandE_B005_CL_b_RGB_bottomleft</td>\n",
       "      <td>NaN</td>\n",
       "    </tr>\n",
       "  </tbody>\n",
       "</table>\n",
       "</div>"
      ],
      "text/plain": [
       "                               id  predicted\n",
       "0   CL_HandE_1234_B004_bottomleft        NaN\n",
       "1  HandE_B005_CL_b_RGB_bottomleft        NaN"
      ]
     },
     "execution_count": 38,
     "metadata": {},
     "output_type": "execute_result"
    }
   ],
   "source": [
    "df_sample\n",
    "#import numpy as np\n",
    "df_sample['predicted'] = np.nan\n",
    "df_sample"
   ]
  },
  {
   "cell_type": "markdown",
   "metadata": {
    "papermill": {
     "duration": 0.015495,
     "end_time": "2021-04-24T13:20:51.968746",
     "exception": false,
     "start_time": "2021-04-24T13:20:51.953251",
     "status": "completed"
    },
    "tags": []
   },
   "source": [
    "## Util functions"
   ]
  },
  {
   "cell_type": "code",
   "execution_count": 39,
   "metadata": {
    "execution": {
     "iopub.execute_input": "2021-04-24T13:20:52.010093Z",
     "iopub.status.busy": "2021-04-24T13:20:52.007878Z",
     "iopub.status.idle": "2021-04-24T13:20:52.010920Z",
     "shell.execute_reply": "2021-04-24T13:20:52.011418Z"
    },
    "papermill": {
     "duration": 0.02704,
     "end_time": "2021-04-24T13:20:52.011572",
     "exception": false,
     "start_time": "2021-04-24T13:20:51.984532",
     "status": "completed"
    },
    "tags": []
   },
   "outputs": [],
   "source": [
    "\n",
    "def rle_encode_less_memory(img):\n",
    "    \n",
    "    pixels = img.T.flatten()\n",
    "    \n",
    "    # This simplified method requires first and last pixel to be zero\n",
    "    pixels[0] = 0\n",
    "    pixels[-1] = 0\n",
    "    runs = np.where(pixels[1:] != pixels[:-1])[0] + 2\n",
    "    runs[1::2] -= runs[::2]\n",
    "    \n",
    "    return ' '.join(str(x) for x in runs)"
   ]
  },
  {
   "cell_type": "markdown",
   "metadata": {
    "papermill": {
     "duration": 0.015844,
     "end_time": "2021-04-24T13:20:52.043179",
     "exception": false,
     "start_time": "2021-04-24T13:20:52.027335",
     "status": "completed"
    },
    "tags": []
   },
   "source": [
    "## Dataset"
   ]
  },
  {
   "cell_type": "code",
   "execution_count": 40,
   "metadata": {
    "execution": {
     "iopub.execute_input": "2021-04-24T13:20:52.084275Z",
     "iopub.status.busy": "2021-04-24T13:20:52.083203Z",
     "iopub.status.idle": "2021-04-24T13:20:52.087518Z",
     "shell.execute_reply": "2021-04-24T13:20:52.086877Z"
    },
    "papermill": {
     "duration": 0.028386,
     "end_time": "2021-04-24T13:20:52.087626",
     "exception": false,
     "start_time": "2021-04-24T13:20:52.059240",
     "status": "completed"
    },
    "tags": []
   },
   "outputs": [],
   "source": [
    "def get_aug(p=1.0):\n",
    "    return Compose([\n",
    "        HorizontalFlip(),\n",
    "        VerticalFlip(),\n",
    "        RandomRotate90(),\n",
    "        ShiftScaleRotate(shift_limit=0.0625, scale_limit=0.2, rotate_limit=15, p=0.9, \n",
    "                         border_mode=cv2.BORDER_REFLECT),\n",
    "        OneOf([\n",
    "            OpticalDistortion(p=0.3),\n",
    "            GridDistortion(p=.1),\n",
    "            IAAPiecewiseAffine(p=0.3),\n",
    "        ], p=0.3),\n",
    "        OneOf([\n",
    "            HueSaturationValue(10,15,10),\n",
    "            CLAHE(clip_limit=2),\n",
    "            RandomBrightnessContrast(),            \n",
    "        ], p=0.3),\n",
    "    ], p=p)"
   ]
  },
  {
   "cell_type": "markdown",
   "metadata": {
    "papermill": {
     "duration": 0.016853,
     "end_time": "2021-04-24T13:20:52.122457",
     "exception": false,
     "start_time": "2021-04-24T13:20:52.105604",
     "status": "completed"
    },
    "tags": []
   },
   "source": [
    "## Model"
   ]
  },
  {
   "cell_type": "code",
   "execution_count": 41,
   "metadata": {
    "execution": {
     "iopub.execute_input": "2021-04-24T13:20:52.162997Z",
     "iopub.status.busy": "2021-04-24T13:20:52.160700Z",
     "iopub.status.idle": "2021-04-24T13:20:52.163792Z",
     "shell.execute_reply": "2021-04-24T13:20:52.164408Z"
    },
    "papermill": {
     "duration": 0.025797,
     "end_time": "2021-04-24T13:20:52.164569",
     "exception": false,
     "start_time": "2021-04-24T13:20:52.138772",
     "status": "completed"
    },
    "tags": []
   },
   "outputs": [],
   "source": [
    "def get_UnetPlusPlus():\n",
    "    model =  smp.UnetPlusPlus(\n",
    "                 encoder_name='efficientnet-b3',\n",
    "                 encoder_weights=None,\n",
    "                 in_channels=3,\n",
    "                 classes=1)\n",
    "    return model"
   ]
  },
  {
   "cell_type": "markdown",
   "metadata": {
    "papermill": {
     "duration": 0.016536,
     "end_time": "2021-04-24T13:20:52.197430",
     "exception": false,
     "start_time": "2021-04-24T13:20:52.180894",
     "status": "completed"
    },
    "tags": []
   },
   "source": [
    "# Inference\n"
   ]
  },
  {
   "cell_type": "code",
   "execution_count": 42,
   "metadata": {
    "execution": {
     "iopub.execute_input": "2021-04-24T13:20:52.263786Z",
     "iopub.status.busy": "2021-04-24T13:20:52.239545Z",
     "iopub.status.idle": "2021-04-24T13:20:52.267213Z",
     "shell.execute_reply": "2021-04-24T13:20:52.266612Z"
    },
    "papermill": {
     "duration": 0.053252,
     "end_time": "2021-04-24T13:20:52.267319",
     "exception": false,
     "start_time": "2021-04-24T13:20:52.214067",
     "status": "completed"
    },
    "tags": []
   },
   "outputs": [],
   "source": [
    "mean = np.array([0.63701495, 0.4709702,  0.6817423] )\n",
    "std = np.array([0.15978882, 0.2245109, 0.14173926])\n",
    "\n",
    "def img2tensor(img,dtype:np.dtype=np.float32):\n",
    "    if img.ndim==2 : img = np.expand_dims(img,2)\n",
    "    img = np.transpose(img,(2,0,1))\n",
    "    return torch.from_numpy(img.astype(dtype, copy=False))\n",
    "\n",
    "class HuBMAPTestDataset(Dataset):\n",
    "    def __init__(self, idx, sz=sz, reduce=reduce):\n",
    "        self.data = rasterio.open(os.path.join(DATA,idx+'.tiff'), transform = identity,\n",
    "                                 num_threads='all_cpus')\n",
    "       \n",
    "        if self.data.count != 3:\n",
    "            subdatasets = self.data.subdatasets\n",
    "            self.layers = []\n",
    "            if len(subdatasets) > 0:\n",
    "                for i, subdataset in enumerate(subdatasets, 0):\n",
    "                    self.layers.append(rasterio.open(subdataset))\n",
    "        self.shape = self.data.shape\n",
    "        self.reduce = reduce\n",
    "        self.sz = reduce*sz\n",
    "        self.pad0 = (self.sz - self.shape[0]%self.sz)%self.sz\n",
    "        self.pad1 = (self.sz - self.shape[1]%self.sz)%self.sz\n",
    "        self.n0max = (self.shape[0] + self.pad0)//self.sz\n",
    "        self.n1max = (self.shape[1] + self.pad1)//self.sz\n",
    "        \n",
    "    def __len__(self):\n",
    "        return self.n0max*self.n1max\n",
    "    \n",
    "    def __getitem__(self, idx):\n",
    "     \n",
    "        n0,n1 = idx//self.n1max, idx%self.n1max\n",
    "        \n",
    "        \n",
    "        x0,y0 = -self.pad0//2 + n0*self.sz, -self.pad1//2 + n1*self.sz\n",
    "        # make sure that the region to read is within the image\n",
    "        p00,p01 = max(0,x0), min(x0+self.sz,self.shape[0])\n",
    "        p10,p11 = max(0,y0), min(y0+self.sz,self.shape[1])\n",
    "        img = np.zeros((self.sz,self.sz,3),np.uint8)\n",
    "        # mapping the loade region to the tile\n",
    "        if self.data.count == 3:\n",
    "            img[(p00-x0):(p01-x0),(p10-y0):(p11-y0)] = np.moveaxis(self.data.read([1,2,3],\n",
    "                window=Window.from_slices((p00,p01),(p10,p11))), 0, -1)\n",
    "        else:\n",
    "            for i,layer in enumerate(self.layers):\n",
    "                img[(p00-x0):(p01-x0),(p10-y0):(p11-y0),i] =\\\n",
    "                  layer.read(1,window=Window.from_slices((p00,p01),(p10,p11)))\n",
    "        \n",
    "        if self.reduce != 1:\n",
    "            img = cv2.resize(img,(self.sz//reduce,self.sz//reduce),\n",
    "                             interpolation = cv2.INTER_AREA)\n",
    "        #check for empty imges\n",
    "        hsv = cv2.cvtColor(img, cv2.COLOR_BGR2HSV)\n",
    "        h,s,v = cv2.split(hsv)\n",
    "        if (s>s_th).sum() <= p_th or img.sum() <= p_th:\n",
    "            #images with -1 will be skipped\n",
    "            return img2tensor((img/255.0 - mean)/std), -1\n",
    "        else: return img2tensor((img/255.0 - mean)/std), idx"
   ]
  },
  {
   "cell_type": "code",
   "execution_count": null,
   "metadata": {
    "execution": {
     "iopub.execute_input": "2021-04-24T13:20:52.310660Z",
     "iopub.status.busy": "2021-04-24T13:20:52.309327Z",
     "iopub.status.idle": "2021-04-24T13:20:53.135948Z",
     "shell.execute_reply": "2021-04-24T13:20:53.134816Z"
    },
    "papermill": {
     "duration": 0.850348,
     "end_time": "2021-04-24T13:20:53.136113",
     "exception": false,
     "start_time": "2021-04-24T13:20:52.285765",
     "status": "completed"
    },
    "tags": []
   },
   "outputs": [],
   "source": []
  },
  {
   "cell_type": "code",
   "execution_count": 43,
   "metadata": {
    "execution": {
     "iopub.execute_input": "2021-04-24T13:20:53.180634Z",
     "iopub.status.busy": "2021-04-24T13:20:53.179453Z",
     "iopub.status.idle": "2021-04-24T13:21:04.401078Z",
     "shell.execute_reply": "2021-04-24T13:21:04.399819Z"
    },
    "papermill": {
     "duration": 11.247107,
     "end_time": "2021-04-24T13:21:04.401234",
     "exception": false,
     "start_time": "2021-04-24T13:20:53.154127",
     "status": "completed"
    },
    "tags": []
   },
   "outputs": [],
   "source": [
    "models = []\n",
    "\n",
    "for fold in range(nfolds):\n",
    "\n",
    "    model = get_UnetPlusPlus().to(DEVICE)\n",
    "    model.load_state_dict(torch.load(f\"./FOLD{fold}_.pth\"))\n",
    "    models.append(model)"
   ]
  },
  {
   "cell_type": "code",
   "execution_count": 44,
   "metadata": {
    "execution": {
     "iopub.execute_input": "2021-04-24T13:21:04.455273Z",
     "iopub.status.busy": "2021-04-24T13:21:04.449932Z",
     "iopub.status.idle": "2021-04-24T13:21:04.459551Z",
     "shell.execute_reply": "2021-04-24T13:21:04.458977Z"
    },
    "papermill": {
     "duration": 0.040605,
     "end_time": "2021-04-24T13:21:04.459673",
     "exception": false,
     "start_time": "2021-04-24T13:21:04.419068",
     "status": "completed"
    },
    "tags": []
   },
   "outputs": [],
   "source": [
    "#iterator like wrapper that returns predicted masks\n",
    "class Model_pred:\n",
    "    def __init__(self, models, dl, tta:bool=True, half:bool=False):\n",
    "        self.models = models\n",
    "        self.dl = dl\n",
    "        self.tta = tta\n",
    "        self.half = half\n",
    "        \n",
    "    def __iter__(self):\n",
    "        count=0\n",
    "        with torch.no_grad():\n",
    "            for x,y in iter(self.dl):\n",
    "                if ((y>=0).sum() > 0): #exclude empty images\n",
    "                    x = x[y>=0].to(DEVICE)\n",
    "                    y = y[y>=0]\n",
    "                    if self.half: x = x.half()\n",
    "                    py = None\n",
    "                    for model in self.models:\n",
    "                        p = model(x)\n",
    "                        p = torch.sigmoid(p).detach()\n",
    "                        if py is None: py = p\n",
    "                        else: py += p\n",
    "                    if self.tta:\n",
    "                        \n",
    "                        flips = [[-1],[-2],[-2,-1]]\n",
    "                        for f in flips:\n",
    "                            xf = torch.flip(x,f)\n",
    "                            for model in self.models:\n",
    "                                p = model(xf)\n",
    "                                p = torch.flip(p,f)\n",
    "                                py += torch.sigmoid(p).detach()\n",
    "                        py /= (1+len(flips))        \n",
    "                    py /= len(self.models)\n",
    "\n",
    "                    py = F.upsample(py, scale_factor=reduce, mode=\"bilinear\")\n",
    "                    py = py.permute(0,2,3,1).float().cpu()\n",
    "                    \n",
    "                    batch_size = len(py)\n",
    "                    for i in range(batch_size):\n",
    "                        yield py[i],y[i]\n",
    "                        count += 1\n",
    "                    \n",
    "    def __len__(self):\n",
    "        return len(self.dl.dataset)"
   ]
  },
  {
   "cell_type": "code",
   "execution_count": 45,
   "metadata": {},
   "outputs": [
    {
     "data": {
      "text/html": [
       "<div>\n",
       "<style scoped>\n",
       "    .dataframe tbody tr th:only-of-type {\n",
       "        vertical-align: middle;\n",
       "    }\n",
       "\n",
       "    .dataframe tbody tr th {\n",
       "        vertical-align: top;\n",
       "    }\n",
       "\n",
       "    .dataframe thead th {\n",
       "        text-align: right;\n",
       "    }\n",
       "</style>\n",
       "<table border=\"1\" class=\"dataframe\">\n",
       "  <thead>\n",
       "    <tr style=\"text-align: right;\">\n",
       "      <th></th>\n",
       "      <th>id</th>\n",
       "      <th>predicted</th>\n",
       "    </tr>\n",
       "  </thead>\n",
       "  <tbody>\n",
       "    <tr>\n",
       "      <th>0</th>\n",
       "      <td>CL_HandE_1234_B004_bottomleft</td>\n",
       "      <td>NaN</td>\n",
       "    </tr>\n",
       "    <tr>\n",
       "      <th>1</th>\n",
       "      <td>HandE_B005_CL_b_RGB_bottomleft</td>\n",
       "      <td>NaN</td>\n",
       "    </tr>\n",
       "  </tbody>\n",
       "</table>\n",
       "</div>"
      ],
      "text/plain": [
       "                               id  predicted\n",
       "0   CL_HandE_1234_B004_bottomleft        NaN\n",
       "1  HandE_B005_CL_b_RGB_bottomleft        NaN"
      ]
     },
     "execution_count": 45,
     "metadata": {},
     "output_type": "execute_result"
    }
   ],
   "source": [
    "df_sample"
   ]
  },
  {
   "cell_type": "code",
   "execution_count": 46,
   "metadata": {},
   "outputs": [
    {
     "data": {
      "text/plain": [
       "array(['CL_HandE_1234_B004_bottomleft', 'HandE_B005_CL_b_RGB_bottomleft'],\n",
       "      dtype=object)"
      ]
     },
     "execution_count": 46,
     "metadata": {},
     "output_type": "execute_result"
    }
   ],
   "source": [
    "LABELS = 'test.csv'\n",
    "d = pd.read_csv(LABELS)\n",
    "#d = d.drop(d[d.id == 'HandE_B005_CL_b_RGB_topright'].index[0])\n",
    "ids = d.id.values\n",
    "ids"
   ]
  },
  {
   "cell_type": "code",
   "execution_count": 47,
   "metadata": {
    "execution": {
     "iopub.execute_input": "2021-04-24T13:21:04.518881Z",
     "iopub.status.busy": "2021-04-24T13:21:04.517057Z",
     "iopub.status.idle": "2021-04-24T13:36:43.173490Z",
     "shell.execute_reply": "2021-04-24T13:36:43.168452Z"
    },
    "papermill": {
     "duration": 938.697185,
     "end_time": "2021-04-24T13:36:43.173629",
     "exception": false,
     "start_time": "2021-04-24T13:21:04.476444",
     "status": "completed"
    },
    "tags": []
   },
   "outputs": [
    {
     "name": "stdout",
     "output_type": "stream",
     "text": [
      "                               id  predicted\n",
      "0   CL_HandE_1234_B004_bottomleft        NaN\n",
      "1  HandE_B005_CL_b_RGB_bottomleft        NaN\n"
     ]
    },
    {
     "data": {
      "application/vnd.jupyter.widget-view+json": {
       "model_id": "e55d383860ca42c78e1c6345b7c0e6e8",
       "version_major": 2,
       "version_minor": 0
      },
      "text/plain": [
       "  0%|          | 0/2 [00:00<?, ?it/s]"
      ]
     },
     "metadata": {},
     "output_type": "display_data"
    }
   ],
   "source": [
    "s_th = 40  #saturation blancking threshold\n",
    "p_th = 1000*(sz//256)**2 #threshold for the minimum number of pixels\n",
    "identity = rasterio.Affine(1, 0, 0, 0, 1, 0)\n",
    "\n",
    "names,preds = [],[]\n",
    "print(df_sample)\n",
    "for idx,row in tqdm(df_sample.iterrows(),total=len(df_sample)):\n",
    "    idx = row['id']\n",
    "    ds = HuBMAPTestDataset(idx)\n",
    "    #rasterio cannot be used with multiple workers\n",
    "    dl = DataLoader(ds,BATCH_SIZE,num_workers=0,shuffle=False,pin_memory=True)\n",
    "    mp = Model_pred(models,dl)\n",
    "    #generate masks\n",
    "    mask = torch.zeros(len(ds),ds.sz,ds.sz,dtype=torch.int8)\n",
    "    for p,i in iter(mp): mask[i.item()] = p.squeeze(-1) > TH\n",
    "    \n",
    "    #reshape tiled masks into a single mask and crop padding\n",
    "    mask = mask.view(ds.n0max,ds.n1max,ds.sz,ds.sz).\\\n",
    "        permute(0,2,1,3).reshape(ds.n0max*ds.sz,ds.n1max*ds.sz)\n",
    "    mask = mask[ds.pad0//2:-(ds.pad0-ds.pad0//2) if ds.pad0 > 0 else ds.n0max*ds.sz,\n",
    "        ds.pad1//2:-(ds.pad1-ds.pad1//2) if ds.pad1 > 0 else ds.n1max*ds.sz]\n",
    "    \n",
    "    \n",
    "    rle = rle_encode_less_memory(mask.numpy())\n",
    "    names.append(idx)\n",
    "    preds.append(rle)\n",
    "    del mask, ds, dl\n",
    "    gc.collect()"
   ]
  },
  {
   "cell_type": "code",
   "execution_count": 48,
   "metadata": {
    "execution": {
     "iopub.execute_input": "2021-04-24T13:36:43.226015Z",
     "iopub.status.busy": "2021-04-24T13:36:43.224754Z",
     "iopub.status.idle": "2021-04-24T13:36:43.718905Z",
     "shell.execute_reply": "2021-04-24T13:36:43.717660Z"
    },
    "papermill": {
     "duration": 0.521089,
     "end_time": "2021-04-24T13:36:43.719027",
     "exception": false,
     "start_time": "2021-04-24T13:36:43.197938",
     "status": "completed"
    },
    "tags": []
   },
   "outputs": [
    {
     "name": "stdout",
     "output_type": "stream",
     "text": [
      "                               id  \\\n",
      "0   CL_HandE_1234_B004_bottomleft   \n",
      "1  HandE_B005_CL_b_RGB_bottomleft   \n",
      "\n",
      "                                           predicted  \n",
      "0  416774 11 421305 20 425835 28 430365 36 434897...  \n",
      "1  4053 50 8588 54 13122 57 17657 60 22192 63 267...  \n"
     ]
    }
   ],
   "source": [
    "df = pd.DataFrame({'id':names,'predicted':preds})\n",
    "print(df)\n",
    "df.to_csv('submission_output_file.csv',index=False)"
   ]
  },
  {
   "cell_type": "code",
   "execution_count": null,
   "metadata": {},
   "outputs": [],
   "source": []
  },
  {
   "cell_type": "code",
   "execution_count": null,
   "metadata": {},
   "outputs": [],
   "source": []
  }
 ],
 "metadata": {
  "kernelspec": {
   "display_name": "Python 3",
   "language": "python",
   "name": "python3"
  },
  "language_info": {
   "codemirror_mode": {
    "name": "ipython",
    "version": 3
   },
   "file_extension": ".py",
   "mimetype": "text/x-python",
   "name": "python",
   "nbconvert_exporter": "python",
   "pygments_lexer": "ipython3",
   "version": "3.7.11"
  },
  "papermill": {
   "duration": 965.914006,
   "end_time": "2021-04-24T13:36:44.347765",
   "environment_variables": {},
   "exception": null,
   "input_path": "__notebook__.ipynb",
   "output_path": "__notebook__.ipynb",
   "parameters": {},
   "start_time": "2021-04-24T13:20:38.433759",
   "version": "2.1.0"
  },
  "widgets": {
   "application/vnd.jupyter.widget-state+json": {
    "state": {
     "3d5d0b8b8b7a43baa45a59512cc9acc8": {
      "model_module": "@jupyter-widgets/controls",
      "model_module_version": "1.5.0",
      "model_name": "DescriptionStyleModel",
      "state": {
       "_model_module": "@jupyter-widgets/controls",
       "_model_module_version": "1.5.0",
       "_model_name": "DescriptionStyleModel",
       "_view_count": null,
       "_view_module": "@jupyter-widgets/base",
       "_view_module_version": "1.2.0",
       "_view_name": "StyleView",
       "description_width": ""
      }
     },
     "3e1805a68c2c40c397da81a8ddd7c5f6": {
      "model_module": "@jupyter-widgets/base",
      "model_module_version": "1.2.0",
      "model_name": "LayoutModel",
      "state": {
       "_model_module": "@jupyter-widgets/base",
       "_model_module_version": "1.2.0",
       "_model_name": "LayoutModel",
       "_view_count": null,
       "_view_module": "@jupyter-widgets/base",
       "_view_module_version": "1.2.0",
       "_view_name": "LayoutView",
       "align_content": null,
       "align_items": null,
       "align_self": null,
       "border": null,
       "bottom": null,
       "display": null,
       "flex": null,
       "flex_flow": null,
       "grid_area": null,
       "grid_auto_columns": null,
       "grid_auto_flow": null,
       "grid_auto_rows": null,
       "grid_column": null,
       "grid_gap": null,
       "grid_row": null,
       "grid_template_areas": null,
       "grid_template_columns": null,
       "grid_template_rows": null,
       "height": null,
       "justify_content": null,
       "justify_items": null,
       "left": null,
       "margin": null,
       "max_height": null,
       "max_width": null,
       "min_height": null,
       "min_width": null,
       "object_fit": null,
       "object_position": null,
       "order": null,
       "overflow": null,
       "overflow_x": null,
       "overflow_y": null,
       "padding": null,
       "right": null,
       "top": null,
       "visibility": null,
       "width": null
      }
     },
     "4f3b3f41cd9143fe85780eca0f30a802": {
      "model_module": "@jupyter-widgets/controls",
      "model_module_version": "1.5.0",
      "model_name": "HTMLModel",
      "state": {
       "_dom_classes": [],
       "_model_module": "@jupyter-widgets/controls",
       "_model_module_version": "1.5.0",
       "_model_name": "HTMLModel",
       "_view_count": null,
       "_view_module": "@jupyter-widgets/controls",
       "_view_module_version": "1.5.0",
       "_view_name": "HTMLView",
       "description": "",
       "description_tooltip": null,
       "layout": "IPY_MODEL_3e1805a68c2c40c397da81a8ddd7c5f6",
       "placeholder": "​",
       "style": "IPY_MODEL_3d5d0b8b8b7a43baa45a59512cc9acc8",
       "value": " 5/5 [15:38&lt;00:00, 187.73s/it]"
      }
     },
     "8afea7152ce8471d874a3b9bc649f745": {
      "model_module": "@jupyter-widgets/base",
      "model_module_version": "1.2.0",
      "model_name": "LayoutModel",
      "state": {
       "_model_module": "@jupyter-widgets/base",
       "_model_module_version": "1.2.0",
       "_model_name": "LayoutModel",
       "_view_count": null,
       "_view_module": "@jupyter-widgets/base",
       "_view_module_version": "1.2.0",
       "_view_name": "LayoutView",
       "align_content": null,
       "align_items": null,
       "align_self": null,
       "border": null,
       "bottom": null,
       "display": null,
       "flex": null,
       "flex_flow": null,
       "grid_area": null,
       "grid_auto_columns": null,
       "grid_auto_flow": null,
       "grid_auto_rows": null,
       "grid_column": null,
       "grid_gap": null,
       "grid_row": null,
       "grid_template_areas": null,
       "grid_template_columns": null,
       "grid_template_rows": null,
       "height": null,
       "justify_content": null,
       "justify_items": null,
       "left": null,
       "margin": null,
       "max_height": null,
       "max_width": null,
       "min_height": null,
       "min_width": null,
       "object_fit": null,
       "object_position": null,
       "order": null,
       "overflow": null,
       "overflow_x": null,
       "overflow_y": null,
       "padding": null,
       "right": null,
       "top": null,
       "visibility": null,
       "width": null
      }
     },
     "b4457278589f4254b0934bbc82ffc846": {
      "model_module": "@jupyter-widgets/controls",
      "model_module_version": "1.5.0",
      "model_name": "HBoxModel",
      "state": {
       "_dom_classes": [],
       "_model_module": "@jupyter-widgets/controls",
       "_model_module_version": "1.5.0",
       "_model_name": "HBoxModel",
       "_view_count": null,
       "_view_module": "@jupyter-widgets/controls",
       "_view_module_version": "1.5.0",
       "_view_name": "HBoxView",
       "box_style": "",
       "children": [
        "IPY_MODEL_e9b88c43db81435eb8b64c0c6e541fa3",
        "IPY_MODEL_4f3b3f41cd9143fe85780eca0f30a802"
       ],
       "layout": "IPY_MODEL_8afea7152ce8471d874a3b9bc649f745"
      }
     },
     "e9b88c43db81435eb8b64c0c6e541fa3": {
      "model_module": "@jupyter-widgets/controls",
      "model_module_version": "1.5.0",
      "model_name": "FloatProgressModel",
      "state": {
       "_dom_classes": [],
       "_model_module": "@jupyter-widgets/controls",
       "_model_module_version": "1.5.0",
       "_model_name": "FloatProgressModel",
       "_view_count": null,
       "_view_module": "@jupyter-widgets/controls",
       "_view_module_version": "1.5.0",
       "_view_name": "ProgressView",
       "bar_style": "success",
       "description": "100%",
       "description_tooltip": null,
       "layout": "IPY_MODEL_f0c67f32af0c4300b50613da4d7d6afe",
       "max": 5,
       "min": 0,
       "orientation": "horizontal",
       "style": "IPY_MODEL_fcdaa3cfde0545c19e6fbe8da4621f41",
       "value": 5
      }
     },
     "f0c67f32af0c4300b50613da4d7d6afe": {
      "model_module": "@jupyter-widgets/base",
      "model_module_version": "1.2.0",
      "model_name": "LayoutModel",
      "state": {
       "_model_module": "@jupyter-widgets/base",
       "_model_module_version": "1.2.0",
       "_model_name": "LayoutModel",
       "_view_count": null,
       "_view_module": "@jupyter-widgets/base",
       "_view_module_version": "1.2.0",
       "_view_name": "LayoutView",
       "align_content": null,
       "align_items": null,
       "align_self": null,
       "border": null,
       "bottom": null,
       "display": null,
       "flex": null,
       "flex_flow": null,
       "grid_area": null,
       "grid_auto_columns": null,
       "grid_auto_flow": null,
       "grid_auto_rows": null,
       "grid_column": null,
       "grid_gap": null,
       "grid_row": null,
       "grid_template_areas": null,
       "grid_template_columns": null,
       "grid_template_rows": null,
       "height": null,
       "justify_content": null,
       "justify_items": null,
       "left": null,
       "margin": null,
       "max_height": null,
       "max_width": null,
       "min_height": null,
       "min_width": null,
       "object_fit": null,
       "object_position": null,
       "order": null,
       "overflow": null,
       "overflow_x": null,
       "overflow_y": null,
       "padding": null,
       "right": null,
       "top": null,
       "visibility": null,
       "width": null
      }
     },
     "fcdaa3cfde0545c19e6fbe8da4621f41": {
      "model_module": "@jupyter-widgets/controls",
      "model_module_version": "1.5.0",
      "model_name": "ProgressStyleModel",
      "state": {
       "_model_module": "@jupyter-widgets/controls",
       "_model_module_version": "1.5.0",
       "_model_name": "ProgressStyleModel",
       "_view_count": null,
       "_view_module": "@jupyter-widgets/base",
       "_view_module_version": "1.2.0",
       "_view_name": "StyleView",
       "bar_color": null,
       "description_width": "initial"
      }
     }
    },
    "version_major": 2,
    "version_minor": 0
   }
  }
 },
 "nbformat": 4,
 "nbformat_minor": 4
}
