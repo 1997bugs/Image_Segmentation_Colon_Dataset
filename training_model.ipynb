{
 "cells": [
  {
   "cell_type": "markdown",
   "metadata": {
    "papermill": {
     "duration": 0.012497,
     "end_time": "2021-04-24T04:19:44.139131",
     "exception": false,
     "start_time": "2021-04-24T04:19:44.126634",
     "status": "completed"
    },
    "tags": []
   },
   "source": [
    "------------------------"
   ]
  },
  {
   "cell_type": "markdown",
   "metadata": {
    "papermill": {
     "duration": 0.012522,
     "end_time": "2021-04-24T04:19:44.164287",
     "exception": false,
     "start_time": "2021-04-24T04:19:44.151765",
     "status": "completed"
    },
    "tags": []
   },
   "source": [
    "## Model - Unet++ of [segmentation_models.pytorch] + Pytorch Framework \n",
    "### Encoder : efficientnet-b3"
   ]
  },
  {
   "cell_type": "markdown",
   "metadata": {
    "papermill": {
     "duration": 0.012494,
     "end_time": "2021-04-24T04:19:44.214653",
     "exception": false,
     "start_time": "2021-04-24T04:19:44.202159",
     "status": "completed"
    },
    "tags": []
   },
   "source": [
    "## Load libraries"
   ]
  },
  {
   "cell_type": "code",
   "execution_count": 3,
   "metadata": {
    "_cell_guid": "b1076dfc-b9ad-4769-8c92-a6c4dae69d19",
    "_uuid": "8f2839f25d086af736a60e9eeb907d3b93b6e0e5",
    "execution": {
     "iopub.execute_input": "2021-04-24T04:19:58.921793Z",
     "iopub.status.busy": "2021-04-24T04:19:58.916860Z",
     "iopub.status.idle": "2021-04-24T04:20:03.277474Z",
     "shell.execute_reply": "2021-04-24T04:20:03.276222Z"
    },
    "papermill": {
     "duration": 4.388415,
     "end_time": "2021-04-24T04:20:03.277590",
     "exception": false,
     "start_time": "2021-04-24T04:19:58.889175",
     "status": "completed"
    },
    "tags": []
   },
   "outputs": [],
   "source": [
    "import gc\n",
    "import os\n",
    "import random\n",
    "import time\n",
    "import warnings\n",
    "warnings.simplefilter(\"ignore\")\n",
    "\n",
    "#import pdb\n",
    "#import zipfile\n",
    "#import pydicom\n",
    "import albumentations\n",
    "#from albumentations.pytorch import ToTensorV2\n",
    "from albumentations import * \n",
    "from albumentations.pytorch import ToTensor \n",
    "import cv2\n",
    "import imgaug\n",
    "from matplotlib import pyplot as plt\n",
    "import numpy as np\n",
    "import pandas as pd\n",
    "from PIL import Image, ImageFilter\n",
    "import segmentation_models_pytorch as smp\n",
    "from sklearn.model_selection import KFold\n",
    "import tifffile as tiff\n",
    "import torch\n",
    "import torch.backends.cudnn as cudnn\n",
    "import torch.nn as nn\n",
    "from torch.nn import functional as F\n",
    "import torch.optim as optim\n",
    "from torch.utils.data import DataLoader\n",
    "from torch.optim.lr_scheduler import ReduceLROnPlateau\n",
    "from torch.utils.data import DataLoader, Dataset, sampler\n",
    "from tqdm import tqdm_notebook as tqdm\n",
    "\n",
    "%matplotlib inline"
   ]
  },
  {
   "cell_type": "markdown",
   "metadata": {},
   "source": []
  },
  {
   "cell_type": "code",
   "execution_count": 4,
   "metadata": {},
   "outputs": [],
   "source": [
    "#from torchvision import transforms\n",
    "#import torchvision\n",
    "#import torchvision.transforms as transforms\n",
    "import albumentations as A"
   ]
  },
  {
   "cell_type": "code",
   "execution_count": 33,
   "metadata": {},
   "outputs": [],
   "source": [
    "# Compose = transforms.Compose"
   ]
  },
  {
   "cell_type": "markdown",
   "metadata": {
    "papermill": {
     "duration": 0.020309,
     "end_time": "2021-04-24T04:20:03.318495",
     "exception": false,
     "start_time": "2021-04-24T04:20:03.298186",
     "status": "completed"
    },
    "tags": []
   },
   "source": [
    "## Dataset"
   ]
  },
  {
   "cell_type": "markdown",
   "metadata": {
    "papermill": {
     "duration": 0.198366,
     "end_time": "2021-04-24T04:20:36.778154",
     "exception": false,
     "start_time": "2021-04-24T04:20:36.579788",
     "status": "completed"
    },
    "tags": []
   },
   "source": [
    "##  Set parameters"
   ]
  },
  {
   "cell_type": "code",
   "execution_count": 5,
   "metadata": {
    "execution": {
     "iopub.execute_input": "2021-04-24T04:20:37.175175Z",
     "iopub.status.busy": "2021-04-24T04:20:37.174643Z",
     "iopub.status.idle": "2021-04-24T04:20:37.180993Z",
     "shell.execute_reply": "2021-04-24T04:20:37.180064Z"
    },
    "papermill": {
     "duration": 0.207095,
     "end_time": "2021-04-24T04:20:37.181092",
     "exception": false,
     "start_time": "2021-04-24T04:20:36.973997",
     "status": "completed"
    },
    "tags": []
   },
   "outputs": [],
   "source": [
    "def set_seed(seed=2**3):\n",
    "    torch.manual_seed(seed)\n",
    "    torch.cuda.manual_seed(seed)\n",
    "    np.random.seed(seed)\n",
    "    random.seed(seed)\n",
    "    torch.backends.cudnn.deterministic = True\n",
    "set_seed(121)"
   ]
  },
  {
   "cell_type": "code",
   "execution_count": 6,
   "metadata": {
    "execution": {
     "iopub.execute_input": "2021-04-24T04:20:38.403655Z",
     "iopub.status.busy": "2021-04-24T04:20:38.403024Z",
     "iopub.status.idle": "2021-04-24T04:20:38.412376Z",
     "shell.execute_reply": "2021-04-24T04:20:38.411954Z"
    },
    "papermill": {
     "duration": 0.619771,
     "end_time": "2021-04-24T04:20:38.412505",
     "exception": false,
     "start_time": "2021-04-24T04:20:37.792734",
     "status": "completed"
    },
    "tags": []
   },
   "outputs": [],
   "source": [
    "fold = 0\n",
    "nfolds = 5\n",
    "reduce = 4\n",
    "sz = 256\n",
    "\n",
    "BATCH_SIZE = 2\n",
    "DEVICE = ('cuda' if torch.cuda.is_available() else 'cpu')\n",
    "EPOCHS = 10\n",
    "NUM_WORKERS = 0\n",
    "SEED = 2020\n",
    "TH = 0.39  #threshold for positive predictions\n",
    "\n",
    "DATA = 'test'\n",
    "LABELS = 'train.csv'\n",
    "MASKS = 'masks_save'\n",
    "TRAIN = 'train_save'\n",
    "df_sample = pd.read_csv('sample_submission.csv')"
   ]
  },
  {
   "cell_type": "code",
   "execution_count": 4,
   "metadata": {},
   "outputs": [],
   "source": [
    "#256x256 -- \n",
    "\n",
    "sz = 256   #the size of tiles\n",
    "reduce = 4 #reduce the original images by 4 times \n",
    "MASKS = 'train_masks.csv'\n",
    "DATA = 'train'\n",
    "OUT_TRAIN = 'train_save_now.zip'\n",
    "OUT_MASKS = 'masks_save_now.zip'"
   ]
  },
  {
   "cell_type": "markdown",
   "metadata": {
    "papermill": {
     "duration": 0.234297,
     "end_time": "2021-04-24T04:20:38.857764",
     "exception": false,
     "start_time": "2021-04-24T04:20:38.623467",
     "status": "completed"
    },
    "tags": []
   },
   "source": [
    "## Util functions"
   ]
  },
  {
   "cell_type": "code",
   "execution_count": 7,
   "metadata": {
    "execution": {
     "iopub.execute_input": "2021-04-24T04:20:39.268094Z",
     "iopub.status.busy": "2021-04-24T04:20:39.267253Z",
     "iopub.status.idle": "2021-04-24T04:20:39.269949Z",
     "shell.execute_reply": "2021-04-24T04:20:39.269515Z"
    },
    "papermill": {
     "duration": 0.207425,
     "end_time": "2021-04-24T04:20:39.270049",
     "exception": false,
     "start_time": "2021-04-24T04:20:39.062624",
     "status": "completed"
    },
    "tags": []
   },
   "outputs": [],
   "source": [
    "\n",
    "def rle_encode_less_memory(img):\n",
    "    \n",
    "    pixels = img.T.flatten()\n",
    "    \n",
    "    # This simplified method requires first and last pixel to be zero\n",
    "    pixels[0] = 0\n",
    "    pixels[-1] = 0\n",
    "    runs = np.where(pixels[1:] != pixels[:-1])[0] + 2\n",
    "    runs[1::2] -= runs[::2]\n",
    "    \n",
    "    return ' '.join(str(x) for x in runs)"
   ]
  },
  {
   "cell_type": "markdown",
   "metadata": {
    "papermill": {
     "duration": 0.19591,
     "end_time": "2021-04-24T04:20:39.662898",
     "exception": false,
     "start_time": "2021-04-24T04:20:39.466988",
     "status": "completed"
    },
    "tags": []
   },
   "source": [
    "## Dataset"
   ]
  },
  {
   "cell_type": "code",
   "execution_count": 12,
   "metadata": {
    "execution": {
     "iopub.execute_input": "2021-04-24T04:20:40.074850Z",
     "iopub.status.busy": "2021-04-24T04:20:40.074062Z",
     "iopub.status.idle": "2021-04-24T04:20:40.076995Z",
     "shell.execute_reply": "2021-04-24T04:20:40.076573Z"
    },
    "papermill": {
     "duration": 0.216717,
     "end_time": "2021-04-24T04:20:40.077091",
     "exception": false,
     "start_time": "2021-04-24T04:20:39.860374",
     "status": "completed"
    },
    "tags": []
   },
   "outputs": [],
   "source": [
    "mean = np.array([0.65527532, 0.49901106, 0.69247992] )\n",
    "std = np.array([0.25565283, 0.31975344, 0.21533712])\n",
    "\n",
    "def img2tensor(img,dtype:np.dtype=np.float32):\n",
    "    if img.ndim==2 : img = np.expand_dims(img,2)\n",
    "    img = np.transpose(img,(2,0,1))\n",
    "    return torch.from_numpy(img.astype(dtype, copy=False))\n",
    "\n",
    "class HuBMAPDataset(Dataset):\n",
    "    def __init__(self, fold=fold, train=True, tfms=None):\n",
    "        d = pd.read_csv(LABELS)\n",
    "#d = d.drop(d[d.id == 'HandE_B005_CL_b_RGB_topright'])\n",
    "        d = d.drop(d[d.id == 'HandE_B005_CL_b_RGB_topright'].index[0])\n",
    "        ids = d.id.values\n",
    "        print(ids)\n",
    "        kf = KFold(n_splits=nfolds,random_state=SEED,shuffle=True)\n",
    "        ids = set(ids[list(kf.split(ids))[fold][0 if train else 1]])\n",
    "        print(\"Printing IDS:\",ids)\n",
    "        self.fnames = [fname for fname in os.listdir(TRAIN) if fname.split('___')[0] in ids]\n",
    "        print(\"Printing fnames:\",self.fnames)\n",
    "        self.train = train\n",
    "        self.tfms = tfms\n",
    "        \n",
    "    def __len__(self):\n",
    "        return len(self.fnames)\n",
    "    \n",
    "    def __getitem__(self, idx):\n",
    "        fname = self.fnames[idx]\n",
    "        img = cv2.cvtColor(cv2.imread(os.path.join(TRAIN,fname)), cv2.COLOR_BGR2RGB)\n",
    "        mask = cv2.imread(os.path.join(MASKS,fname),cv2.IMREAD_GRAYSCALE)\n",
    "        if self.tfms is not None:\n",
    "            augmented = self.tfms(image=img,mask=mask)\n",
    "            img,mask = augmented['image'],augmented['mask']\n",
    "        return img2tensor((img/255.0 - mean)/std),img2tensor(mask)"
   ]
  },
  {
   "cell_type": "code",
   "execution_count": 13,
   "metadata": {
    "execution": {
     "iopub.execute_input": "2021-04-24T04:20:40.488812Z",
     "iopub.status.busy": "2021-04-24T04:20:40.488066Z",
     "iopub.status.idle": "2021-04-24T04:20:40.490819Z",
     "shell.execute_reply": "2021-04-24T04:20:40.490286Z"
    },
    "papermill": {
     "duration": 0.217604,
     "end_time": "2021-04-24T04:20:40.490908",
     "exception": false,
     "start_time": "2021-04-24T04:20:40.273304",
     "status": "completed"
    },
    "tags": []
   },
   "outputs": [],
   "source": [
    "def get_aug(p=1.0):\n",
    "    return Compose([\n",
    "        HorizontalFlip(),\n",
    "        VerticalFlip(),\n",
    "        RandomRotate90(),\n",
    "        ShiftScaleRotate(shift_limit=0.0625, scale_limit=0.2, rotate_limit=15, p=0.9, \n",
    "                         border_mode=cv2.BORDER_REFLECT),\n",
    "        OneOf([\n",
    "            OpticalDistortion(p=0.3),\n",
    "            GridDistortion(p=.1),\n",
    "            IAAPiecewiseAffine(p=0.3),\n",
    "        ], p=0.3),\n",
    "        OneOf([\n",
    "            HueSaturationValue(10,15,10),\n",
    "            CLAHE(clip_limit=2),\n",
    "            RandomBrightnessContrast(),            \n",
    "        ], p=0.3),\n",
    "    ], p=p)"
   ]
  },
  {
   "cell_type": "code",
   "execution_count": 14,
   "metadata": {},
   "outputs": [],
   "source": [
    "import torch\n",
    "from torch.utils import data\n",
    "\n",
    "class MapDataset(data.Dataset):\n",
    "    def __len__(self):\n",
    "        return 10\n",
    "\n",
    "    def __getitem__(self, x):\n",
    "        return x\n",
    "\n",
    "class IterableDataset(data.IterableDataset):\n",
    "    def __len__(self):\n",
    "        return 10\n",
    "\n",
    "    def __iter__(self):\n",
    "        return iter(range(10))\n",
    "\n",
    "\n",
    "map_loader = data.DataLoader(MapDataset(), batch_size=2)\n",
    "iterable_loader = data.DataLoader(IterableDataset(), batch_size=2)"
   ]
  },
  {
   "cell_type": "code",
   "execution_count": 15,
   "metadata": {},
   "outputs": [
    {
     "name": "stdout",
     "output_type": "stream",
     "text": [
      "['CL_HandE_1234_B004_bottomright' 'CL_HandE_1234_B004_topleft'\n",
      " 'CL_HandE_1234_B004_topright' 'HandE_B005_CL_b_RGB_bottomright'\n",
      " 'HandE_B005_CL_b_RGB_topleft']\n",
      "Printing IDS: {'CL_HandE_1234_B004_topleft', 'CL_HandE_1234_B004_topright', 'CL_HandE_1234_B004_bottomright', 'HandE_B005_CL_b_RGB_topleft'}\n",
      "Printing fnames: ['HandE_B005_CL_b_RGB_topleft___0002.png', 'HandE_B005_CL_b_RGB_topleft___0016.png', 'HandE_B005_CL_b_RGB_topleft___0017.png', 'HandE_B005_CL_b_RGB_topleft___0003.png', 'HandE_B005_CL_b_RGB_topleft___0015.png', 'CL_HandE_1234_B004_topright___0024.png', 'CL_HandE_1234_B004_topright___0018.png', 'CL_HandE_1234_B004_topright___0019.png', 'HandE_B005_CL_b_RGB_topleft___0014.png', 'HandE_B005_CL_b_RGB_topleft___0010.png', 'HandE_B005_CL_b_RGB_topleft___0004.png', 'CL_HandE_1234_B004_topright___0009.png', 'CL_HandE_1234_B004_topright___0021.png', 'CL_HandE_1234_B004_topright___0020.png', 'CL_HandE_1234_B004_topright___0008.png', 'HandE_B005_CL_b_RGB_topleft___0011.png', 'HandE_B005_CL_b_RGB_topleft___0007.png', 'HandE_B005_CL_b_RGB_topleft___0013.png', 'CL_HandE_1234_B004_topright___0022.png', 'CL_HandE_1234_B004_topright___0023.png', 'HandE_B005_CL_b_RGB_topleft___0012.png', 'HandE_B005_CL_b_RGB_topleft___0006.png', 'CL_HandE_1234_B004_bottomright___0020.png', 'CL_HandE_1234_B004_bottomright___0008.png', 'CL_HandE_1234_B004_topleft___0015.png', 'CL_HandE_1234_B004_topleft___0001.png', 'CL_HandE_1234_B004_topleft___0000.png', 'CL_HandE_1234_B004_topleft___0014.png', 'CL_HandE_1234_B004_bottomright___0009.png', 'CL_HandE_1234_B004_bottomright___0021.png', 'CL_HandE_1234_B004_bottomright___0023.png', 'CL_HandE_1234_B004_topleft___0002.png', 'CL_HandE_1234_B004_topleft___0016.png', 'CL_HandE_1234_B004_topleft___0017.png', 'CL_HandE_1234_B004_topleft___0003.png', 'CL_HandE_1234_B004_bottomright___0022.png', 'CL_HandE_1234_B004_topleft___0007.png', 'CL_HandE_1234_B004_topleft___0012.png', 'CL_HandE_1234_B004_topleft___0006.png', 'CL_HandE_1234_B004_bottomright___0019.png', 'CL_HandE_1234_B004_topleft___0010.png', 'CL_HandE_1234_B004_topleft___0004.png', 'CL_HandE_1234_B004_topleft___0005.png', 'CL_HandE_1234_B004_topleft___0011.png', 'CL_HandE_1234_B004_bottomright___0024.png', 'CL_HandE_1234_B004_bottomright___0018.png', 'CL_HandE_1234_B004_bottomright___0015.png', 'CL_HandE_1234_B004_bottomright___0001.png', 'CL_HandE_1234_B004_topleft___0020.png', 'CL_HandE_1234_B004_topleft___0008.png', 'CL_HandE_1234_B004_topleft___0009.png', 'CL_HandE_1234_B004_topleft___0021.png', 'CL_HandE_1234_B004_bottomright___0000.png', 'CL_HandE_1234_B004_bottomright___0014.png', 'CL_HandE_1234_B004_bottomright___0002.png', 'CL_HandE_1234_B004_bottomright___0016.png', 'CL_HandE_1234_B004_topleft___0023.png', 'CL_HandE_1234_B004_topleft___0022.png', 'CL_HandE_1234_B004_bottomright___0017.png', 'CL_HandE_1234_B004_bottomright___0003.png', 'CL_HandE_1234_B004_bottomright___0007.png', 'CL_HandE_1234_B004_bottomright___0013.png', 'CL_HandE_1234_B004_bottomright___0012.png', 'CL_HandE_1234_B004_bottomright___0006.png', 'CL_HandE_1234_B004_bottomright___0010.png', 'CL_HandE_1234_B004_bottomright___0004.png', 'CL_HandE_1234_B004_topleft___0019.png', 'CL_HandE_1234_B004_topleft___0024.png', 'CL_HandE_1234_B004_topleft___0018.png', 'CL_HandE_1234_B004_bottomright___0005.png', 'CL_HandE_1234_B004_bottomright___0011.png', 'HandE_B005_CL_b_RGB_topleft___0023.png', 'CL_HandE_1234_B004_topright___0006.png', 'CL_HandE_1234_B004_topright___0012.png', 'CL_HandE_1234_B004_topright___0013.png', 'CL_HandE_1234_B004_topright___0007.png', 'HandE_B005_CL_b_RGB_topleft___0022.png', 'HandE_B005_CL_b_RGB_topleft___0020.png', 'HandE_B005_CL_b_RGB_topleft___0008.png', 'CL_HandE_1234_B004_topright___0004.png', 'HandE_B005_CL_b_RGB_topleft___0009.png', 'HandE_B005_CL_b_RGB_topleft___0021.png', 'HandE_B005_CL_b_RGB_topleft___0019.png', 'CL_HandE_1234_B004_topright___0014.png', 'CL_HandE_1234_B004_topright___0000.png', 'CL_HandE_1234_B004_topright___0001.png', 'HandE_B005_CL_b_RGB_topleft___0024.png', 'HandE_B005_CL_b_RGB_topleft___0018.png', 'CL_HandE_1234_B004_topright___0003.png', 'CL_HandE_1234_B004_topright___0017.png', 'CL_HandE_1234_B004_topright___0016.png', 'CL_HandE_1234_B004_topright___0002.png']\n",
      "92\n",
      "['HandE_B005_CL_b_RGB_topleft___0002.png', 'HandE_B005_CL_b_RGB_topleft___0016.png', 'HandE_B005_CL_b_RGB_topleft___0017.png', 'HandE_B005_CL_b_RGB_topleft___0003.png', 'HandE_B005_CL_b_RGB_topleft___0015.png', 'CL_HandE_1234_B004_topright___0024.png', 'CL_HandE_1234_B004_topright___0018.png', 'CL_HandE_1234_B004_topright___0019.png', 'HandE_B005_CL_b_RGB_topleft___0014.png', 'HandE_B005_CL_b_RGB_topleft___0010.png', 'HandE_B005_CL_b_RGB_topleft___0004.png', 'CL_HandE_1234_B004_topright___0009.png', 'CL_HandE_1234_B004_topright___0021.png', 'CL_HandE_1234_B004_topright___0020.png', 'CL_HandE_1234_B004_topright___0008.png', 'HandE_B005_CL_b_RGB_topleft___0011.png', 'HandE_B005_CL_b_RGB_topleft___0007.png', 'HandE_B005_CL_b_RGB_topleft___0013.png', 'CL_HandE_1234_B004_topright___0022.png', 'CL_HandE_1234_B004_topright___0023.png', 'HandE_B005_CL_b_RGB_topleft___0012.png', 'HandE_B005_CL_b_RGB_topleft___0006.png', 'CL_HandE_1234_B004_bottomright___0020.png', 'CL_HandE_1234_B004_bottomright___0008.png', 'CL_HandE_1234_B004_topleft___0015.png', 'CL_HandE_1234_B004_topleft___0001.png', 'CL_HandE_1234_B004_topleft___0000.png', 'CL_HandE_1234_B004_topleft___0014.png', 'CL_HandE_1234_B004_bottomright___0009.png', 'CL_HandE_1234_B004_bottomright___0021.png', 'CL_HandE_1234_B004_bottomright___0023.png', 'CL_HandE_1234_B004_topleft___0002.png', 'CL_HandE_1234_B004_topleft___0016.png', 'CL_HandE_1234_B004_topleft___0017.png', 'CL_HandE_1234_B004_topleft___0003.png', 'CL_HandE_1234_B004_bottomright___0022.png', 'CL_HandE_1234_B004_topleft___0007.png', 'CL_HandE_1234_B004_topleft___0012.png', 'CL_HandE_1234_B004_topleft___0006.png', 'CL_HandE_1234_B004_bottomright___0019.png', 'CL_HandE_1234_B004_topleft___0010.png', 'CL_HandE_1234_B004_topleft___0004.png', 'CL_HandE_1234_B004_topleft___0005.png', 'CL_HandE_1234_B004_topleft___0011.png', 'CL_HandE_1234_B004_bottomright___0024.png', 'CL_HandE_1234_B004_bottomright___0018.png', 'CL_HandE_1234_B004_bottomright___0015.png', 'CL_HandE_1234_B004_bottomright___0001.png', 'CL_HandE_1234_B004_topleft___0020.png', 'CL_HandE_1234_B004_topleft___0008.png', 'CL_HandE_1234_B004_topleft___0009.png', 'CL_HandE_1234_B004_topleft___0021.png', 'CL_HandE_1234_B004_bottomright___0000.png', 'CL_HandE_1234_B004_bottomright___0014.png', 'CL_HandE_1234_B004_bottomright___0002.png', 'CL_HandE_1234_B004_bottomright___0016.png', 'CL_HandE_1234_B004_topleft___0023.png', 'CL_HandE_1234_B004_topleft___0022.png', 'CL_HandE_1234_B004_bottomright___0017.png', 'CL_HandE_1234_B004_bottomright___0003.png', 'CL_HandE_1234_B004_bottomright___0007.png', 'CL_HandE_1234_B004_bottomright___0013.png', 'CL_HandE_1234_B004_bottomright___0012.png', 'CL_HandE_1234_B004_bottomright___0006.png', 'CL_HandE_1234_B004_bottomright___0010.png', 'CL_HandE_1234_B004_bottomright___0004.png', 'CL_HandE_1234_B004_topleft___0019.png', 'CL_HandE_1234_B004_topleft___0024.png', 'CL_HandE_1234_B004_topleft___0018.png', 'CL_HandE_1234_B004_bottomright___0005.png', 'CL_HandE_1234_B004_bottomright___0011.png', 'HandE_B005_CL_b_RGB_topleft___0023.png', 'CL_HandE_1234_B004_topright___0006.png', 'CL_HandE_1234_B004_topright___0012.png', 'CL_HandE_1234_B004_topright___0013.png', 'CL_HandE_1234_B004_topright___0007.png', 'HandE_B005_CL_b_RGB_topleft___0022.png', 'HandE_B005_CL_b_RGB_topleft___0020.png', 'HandE_B005_CL_b_RGB_topleft___0008.png', 'CL_HandE_1234_B004_topright___0004.png', 'HandE_B005_CL_b_RGB_topleft___0009.png', 'HandE_B005_CL_b_RGB_topleft___0021.png', 'HandE_B005_CL_b_RGB_topleft___0019.png', 'CL_HandE_1234_B004_topright___0014.png', 'CL_HandE_1234_B004_topright___0000.png', 'CL_HandE_1234_B004_topright___0001.png', 'HandE_B005_CL_b_RGB_topleft___0024.png', 'HandE_B005_CL_b_RGB_topleft___0018.png', 'CL_HandE_1234_B004_topright___0003.png', 'CL_HandE_1234_B004_topright___0017.png', 'CL_HandE_1234_B004_topright___0016.png', 'CL_HandE_1234_B004_topright___0002.png']\n",
      "True\n"
     ]
    }
   ],
   "source": [
    "ds = HuBMAPDataset(tfms=get_aug())\n",
    "print(len(ds))\n",
    "print(ds.fnames)\n",
    "print(ds.train)\n",
    "#dl = data.DataLoader(IterableDataset(), batch_size=2)"
   ]
  },
  {
   "cell_type": "code",
   "execution_count": 27,
   "metadata": {
    "execution": {
     "iopub.execute_input": "2021-04-24T04:20:40.895140Z",
     "iopub.status.busy": "2021-04-24T04:20:40.894444Z",
     "iopub.status.idle": "2021-04-24T04:20:54.308183Z",
     "shell.execute_reply": "2021-04-24T04:20:54.308851Z"
    },
    "papermill": {
     "duration": 13.62388,
     "end_time": "2021-04-24T04:20:54.309038",
     "exception": false,
     "start_time": "2021-04-24T04:20:40.685158",
     "status": "completed"
    },
    "tags": []
   },
   "outputs": [
    {
     "name": "stdout",
     "output_type": "stream",
     "text": [
      "['CL_HandE_1234_B004_bottomright' 'CL_HandE_1234_B004_topleft'\n",
      " 'CL_HandE_1234_B004_topright' 'HandE_B005_CL_b_RGB_bottomright'\n",
      " 'HandE_B005_CL_b_RGB_topleft']\n",
      "Printing IDS: {'CL_HandE_1234_B004_topleft', 'CL_HandE_1234_B004_topright', 'HandE_B005_CL_b_RGB_bottomright', 'HandE_B005_CL_b_RGB_topleft'}\n",
      "Printing fnames: ['HandE_B005_CL_b_RGB_topleft___0002.png', 'HandE_B005_CL_b_RGB_topleft___0016.png', 'HandE_B005_CL_b_RGB_topleft___0017.png', 'HandE_B005_CL_b_RGB_topleft___0003.png', 'HandE_B005_CL_b_RGB_topleft___0015.png', 'CL_HandE_1234_B004_topright___0024.png', 'CL_HandE_1234_B004_topright___0018.png', 'CL_HandE_1234_B004_topright___0019.png', 'HandE_B005_CL_b_RGB_topleft___0014.png', 'HandE_B005_CL_b_RGB_topleft___0010.png', 'HandE_B005_CL_b_RGB_topleft___0004.png', 'CL_HandE_1234_B004_topright___0009.png', 'CL_HandE_1234_B004_topright___0021.png', 'CL_HandE_1234_B004_topright___0020.png', 'CL_HandE_1234_B004_topright___0008.png', 'HandE_B005_CL_b_RGB_topleft___0011.png', 'HandE_B005_CL_b_RGB_topleft___0007.png', 'HandE_B005_CL_b_RGB_topleft___0013.png', 'CL_HandE_1234_B004_topright___0022.png', 'CL_HandE_1234_B004_topright___0023.png', 'HandE_B005_CL_b_RGB_topleft___0012.png', 'HandE_B005_CL_b_RGB_topleft___0006.png', 'CL_HandE_1234_B004_topleft___0015.png', 'CL_HandE_1234_B004_topleft___0001.png', 'HandE_B005_CL_b_RGB_bottomright___0001.png', 'CL_HandE_1234_B004_topleft___0000.png', 'CL_HandE_1234_B004_topleft___0014.png', 'HandE_B005_CL_b_RGB_bottomright___0015.png', 'CL_HandE_1234_B004_topleft___0002.png', 'HandE_B005_CL_b_RGB_bottomright___0017.png', 'CL_HandE_1234_B004_topleft___0016.png', 'HandE_B005_CL_b_RGB_bottomright___0016.png', 'CL_HandE_1234_B004_topleft___0017.png', 'CL_HandE_1234_B004_topleft___0003.png', 'HandE_B005_CL_b_RGB_bottomright___0002.png', 'HandE_B005_CL_b_RGB_bottomright___0006.png', 'CL_HandE_1234_B004_topleft___0007.png', 'HandE_B005_CL_b_RGB_bottomright___0012.png', 'CL_HandE_1234_B004_topleft___0012.png', 'HandE_B005_CL_b_RGB_bottomright___0007.png', 'CL_HandE_1234_B004_topleft___0006.png', 'HandE_B005_CL_b_RGB_bottomright___0011.png', 'CL_HandE_1234_B004_topleft___0010.png', 'CL_HandE_1234_B004_topleft___0004.png', 'CL_HandE_1234_B004_topleft___0005.png', 'HandE_B005_CL_b_RGB_bottomright___0010.png', 'CL_HandE_1234_B004_topleft___0011.png', 'HandE_B005_CL_b_RGB_bottomright___0021.png', 'CL_HandE_1234_B004_topleft___0020.png', 'CL_HandE_1234_B004_topleft___0008.png', 'CL_HandE_1234_B004_topleft___0009.png', 'CL_HandE_1234_B004_topleft___0021.png', 'CL_HandE_1234_B004_topleft___0023.png', 'CL_HandE_1234_B004_topleft___0022.png', 'CL_HandE_1234_B004_topleft___0019.png', 'CL_HandE_1234_B004_topleft___0024.png', 'CL_HandE_1234_B004_topleft___0018.png', 'HandE_B005_CL_b_RGB_topleft___0023.png', 'CL_HandE_1234_B004_topright___0006.png', 'CL_HandE_1234_B004_topright___0012.png', 'CL_HandE_1234_B004_topright___0013.png', 'CL_HandE_1234_B004_topright___0007.png', 'HandE_B005_CL_b_RGB_topleft___0022.png', 'HandE_B005_CL_b_RGB_topleft___0020.png', 'HandE_B005_CL_b_RGB_topleft___0008.png', 'CL_HandE_1234_B004_topright___0004.png', 'HandE_B005_CL_b_RGB_topleft___0009.png', 'HandE_B005_CL_b_RGB_topleft___0021.png', 'HandE_B005_CL_b_RGB_topleft___0019.png', 'CL_HandE_1234_B004_topright___0014.png', 'CL_HandE_1234_B004_topright___0000.png', 'CL_HandE_1234_B004_topright___0001.png', 'HandE_B005_CL_b_RGB_topleft___0024.png', 'HandE_B005_CL_b_RGB_topleft___0018.png', 'CL_HandE_1234_B004_topright___0003.png', 'CL_HandE_1234_B004_topright___0017.png', 'CL_HandE_1234_B004_topright___0016.png', 'CL_HandE_1234_B004_topright___0002.png']\n",
      "78\n"
     ]
    },
    {
     "data": {
      "image/png": "[encoded data removed]",
      "text/plain": [
       "<Figure size 1152x1152 with 1 Axes>"
      ]
     },
     "metadata": {
      "needs_background": "light"
     },
     "output_type": "display_data"
    }
   ],
   "source": [
    "#example of train images with masks\n",
    "ds = HuBMAPDataset(fold=fold, train=True,tfms=get_aug())\n",
    "#dl = data.DataLoader(IterableDataset(), batch_size=2)\n",
    "#num_workers=NUM_WORKERS\n",
    "dl = torch.utils.data.DataLoader(ds,shuffle=True,num_workers=NUM_WORKERS,batch_size=1)\n",
    "print(len(dl))\n",
    "imgs,masks = next(iter(dl))\n",
    "\n",
    "plt.figure(figsize=(16,16))\n",
    "for i,(img,mask) in enumerate(zip(imgs,masks)):\n",
    "    img = ((img.permute(1,2,0)*std + mean)*255.0).numpy().astype(np.uint8)\n",
    "    plt.subplot(8,8,i+1)\n",
    "    plt.imshow(img,vmin=0,vmax=255)\n",
    "    plt.imshow(mask.squeeze().numpy(), alpha=0.2)\n",
    "    plt.axis('off')\n",
    "    plt.subplots_adjust(wspace=None, hspace=None)\n",
    "    plt.show()\n",
    "    \n",
    "del ds,dl,imgs,masks"
   ]
  },
  {
   "cell_type": "markdown",
   "metadata": {
    "papermill": {
     "duration": 0.237163,
     "end_time": "2021-04-24T04:20:54.791249",
     "exception": false,
     "start_time": "2021-04-24T04:20:54.554086",
     "status": "completed"
    },
    "tags": []
   },
   "source": [
    "## Model"
   ]
  },
  {
   "cell_type": "code",
   "execution_count": 22,
   "metadata": {
    "execution": {
     "iopub.execute_input": "2021-04-24T04:20:55.248354Z",
     "iopub.status.busy": "2021-04-24T04:20:55.247569Z",
     "iopub.status.idle": "2021-04-24T04:20:55.250592Z",
     "shell.execute_reply": "2021-04-24T04:20:55.250142Z"
    },
    "papermill": {
     "duration": 0.233888,
     "end_time": "2021-04-24T04:20:55.250684",
     "exception": false,
     "start_time": "2021-04-24T04:20:55.016796",
     "status": "completed"
    },
    "tags": []
   },
   "outputs": [],
   "source": [
    "def get_UnetPlusPlus():\n",
    "    model =  smp.UnetPlusPlus(\n",
    "                 encoder_name='efficientnet-b3',\n",
    "                 encoder_weights='imagenet',\n",
    "                 in_channels=3,\n",
    "                 classes=1)\n",
    "    return model"
   ]
  },
  {
   "cell_type": "markdown",
   "metadata": {
    "papermill": {
     "duration": 0.302874,
     "end_time": "2021-04-24T04:20:55.777994",
     "exception": false,
     "start_time": "2021-04-24T04:20:55.475120",
     "status": "completed"
    },
    "tags": []
   },
   "source": [
    "## DiceLoss\n",
    "\n",
    "Note that this loss represents 1 - DiceLoss."
   ]
  },
  {
   "cell_type": "code",
   "execution_count": 23,
   "metadata": {
    "execution": {
     "iopub.execute_input": "2021-04-24T04:20:56.437928Z",
     "iopub.status.busy": "2021-04-24T04:20:56.436968Z",
     "iopub.status.idle": "2021-04-24T04:20:56.439933Z",
     "shell.execute_reply": "2021-04-24T04:20:56.439517Z"
    },
    "papermill": {
     "duration": 0.264035,
     "end_time": "2021-04-24T04:20:56.440026",
     "exception": false,
     "start_time": "2021-04-24T04:20:56.175991",
     "status": "completed"
    },
    "tags": []
   },
   "outputs": [],
   "source": [
    "\n",
    "class DiceLoss(nn.Module):\n",
    "    def __init__(self, weight=None, size_average=True):\n",
    "        super(DiceLoss, self).__init__()\n",
    "\n",
    "    def forward(self, inputs, targets, smooth=1):\n",
    "        \n",
    "        #comment out if your model contains a sigmoid or equivalent activation layer\n",
    "        inputs = F.sigmoid(inputs)       \n",
    "        \n",
    "        #flatten label and prediction tensors\n",
    "        inputs = inputs.view(-1)\n",
    "        targets = targets.view(-1)\n",
    "        \n",
    "        intersection = (inputs * targets).sum()                            \n",
    "        dice = (2.*intersection + smooth)/(inputs.sum() + targets.sum() + smooth)  \n",
    "        \n",
    "        return 1 - dice"
   ]
  },
  {
   "cell_type": "markdown",
   "metadata": {
    "papermill": {
     "duration": 0.230128,
     "end_time": "2021-04-24T04:20:56.901192",
     "exception": false,
     "start_time": "2021-04-24T04:20:56.671064",
     "status": "completed"
    },
    "tags": []
   },
   "source": [
    "## Training"
   ]
  },
  {
   "cell_type": "code",
   "execution_count": 25,
   "metadata": {
    "execution": {
     "iopub.execute_input": "2021-04-24T04:20:57.379280Z",
     "iopub.status.busy": "2021-04-24T04:20:57.378412Z",
     "iopub.status.idle": "2021-04-24T12:02:14.586858Z",
     "shell.execute_reply": "2021-04-24T12:02:14.583904Z"
    },
    "papermill": {
     "duration": 27677.457671,
     "end_time": "2021-04-24T12:02:14.586981",
     "exception": false,
     "start_time": "2021-04-24T04:20:57.129310",
     "status": "completed"
    },
    "tags": []
   },
   "outputs": [
    {
     "name": "stdout",
     "output_type": "stream",
     "text": [
      "['CL_HandE_1234_B004_bottomright' 'CL_HandE_1234_B004_topleft'\n",
      " 'CL_HandE_1234_B004_topright' 'HandE_B005_CL_b_RGB_bottomright'\n",
      " 'HandE_B005_CL_b_RGB_topleft']\n",
      "Printing IDS: {'CL_HandE_1234_B004_topleft', 'CL_HandE_1234_B004_topright', 'CL_HandE_1234_B004_bottomright', 'HandE_B005_CL_b_RGB_topleft'}\n",
      "Printing fnames: ['HandE_B005_CL_b_RGB_topleft___0002.png', 'HandE_B005_CL_b_RGB_topleft___0016.png', 'HandE_B005_CL_b_RGB_topleft___0017.png', 'HandE_B005_CL_b_RGB_topleft___0003.png', 'HandE_B005_CL_b_RGB_topleft___0015.png', 'CL_HandE_1234_B004_topright___0024.png', 'CL_HandE_1234_B004_topright___0018.png', 'CL_HandE_1234_B004_topright___0019.png', 'HandE_B005_CL_b_RGB_topleft___0014.png', 'HandE_B005_CL_b_RGB_topleft___0010.png', 'HandE_B005_CL_b_RGB_topleft___0004.png', 'CL_HandE_1234_B004_topright___0009.png', 'CL_HandE_1234_B004_topright___0021.png', 'CL_HandE_1234_B004_topright___0020.png', 'CL_HandE_1234_B004_topright___0008.png', 'HandE_B005_CL_b_RGB_topleft___0011.png', 'HandE_B005_CL_b_RGB_topleft___0007.png', 'HandE_B005_CL_b_RGB_topleft___0013.png', 'CL_HandE_1234_B004_topright___0022.png', 'CL_HandE_1234_B004_topright___0023.png', 'HandE_B005_CL_b_RGB_topleft___0012.png', 'HandE_B005_CL_b_RGB_topleft___0006.png', 'CL_HandE_1234_B004_bottomright___0020.png', 'CL_HandE_1234_B004_bottomright___0008.png', 'CL_HandE_1234_B004_topleft___0015.png', 'CL_HandE_1234_B004_topleft___0001.png', 'CL_HandE_1234_B004_topleft___0000.png', 'CL_HandE_1234_B004_topleft___0014.png', 'CL_HandE_1234_B004_bottomright___0009.png', 'CL_HandE_1234_B004_bottomright___0021.png', 'CL_HandE_1234_B004_bottomright___0023.png', 'CL_HandE_1234_B004_topleft___0002.png', 'CL_HandE_1234_B004_topleft___0016.png', 'CL_HandE_1234_B004_topleft___0017.png', 'CL_HandE_1234_B004_topleft___0003.png', 'CL_HandE_1234_B004_bottomright___0022.png', 'CL_HandE_1234_B004_topleft___0007.png', 'CL_HandE_1234_B004_topleft___0012.png', 'CL_HandE_1234_B004_topleft___0006.png', 'CL_HandE_1234_B004_bottomright___0019.png', 'CL_HandE_1234_B004_topleft___0010.png', 'CL_HandE_1234_B004_topleft___0004.png', 'CL_HandE_1234_B004_topleft___0005.png', 'CL_HandE_1234_B004_topleft___0011.png', 'CL_HandE_1234_B004_bottomright___0024.png', 'CL_HandE_1234_B004_bottomright___0018.png', 'CL_HandE_1234_B004_bottomright___0015.png', 'CL_HandE_1234_B004_bottomright___0001.png', 'CL_HandE_1234_B004_topleft___0020.png', 'CL_HandE_1234_B004_topleft___0008.png', 'CL_HandE_1234_B004_topleft___0009.png', 'CL_HandE_1234_B004_topleft___0021.png', 'CL_HandE_1234_B004_bottomright___0000.png', 'CL_HandE_1234_B004_bottomright___0014.png', 'CL_HandE_1234_B004_bottomright___0002.png', 'CL_HandE_1234_B004_bottomright___0016.png', 'CL_HandE_1234_B004_topleft___0023.png', 'CL_HandE_1234_B004_topleft___0022.png', 'CL_HandE_1234_B004_bottomright___0017.png', 'CL_HandE_1234_B004_bottomright___0003.png', 'CL_HandE_1234_B004_bottomright___0007.png', 'CL_HandE_1234_B004_bottomright___0013.png', 'CL_HandE_1234_B004_bottomright___0012.png', 'CL_HandE_1234_B004_bottomright___0006.png', 'CL_HandE_1234_B004_bottomright___0010.png', 'CL_HandE_1234_B004_bottomright___0004.png', 'CL_HandE_1234_B004_topleft___0019.png', 'CL_HandE_1234_B004_topleft___0024.png', 'CL_HandE_1234_B004_topleft___0018.png', 'CL_HandE_1234_B004_bottomright___0005.png', 'CL_HandE_1234_B004_bottomright___0011.png', 'HandE_B005_CL_b_RGB_topleft___0023.png', 'CL_HandE_1234_B004_topright___0006.png', 'CL_HandE_1234_B004_topright___0012.png', 'CL_HandE_1234_B004_topright___0013.png', 'CL_HandE_1234_B004_topright___0007.png', 'HandE_B005_CL_b_RGB_topleft___0022.png', 'HandE_B005_CL_b_RGB_topleft___0020.png', 'HandE_B005_CL_b_RGB_topleft___0008.png', 'CL_HandE_1234_B004_topright___0004.png', 'HandE_B005_CL_b_RGB_topleft___0009.png', 'HandE_B005_CL_b_RGB_topleft___0021.png', 'HandE_B005_CL_b_RGB_topleft___0019.png', 'CL_HandE_1234_B004_topright___0014.png', 'CL_HandE_1234_B004_topright___0000.png', 'CL_HandE_1234_B004_topright___0001.png', 'HandE_B005_CL_b_RGB_topleft___0024.png', 'HandE_B005_CL_b_RGB_topleft___0018.png', 'CL_HandE_1234_B004_topright___0003.png', 'CL_HandE_1234_B004_topright___0017.png', 'CL_HandE_1234_B004_topright___0016.png', 'CL_HandE_1234_B004_topright___0002.png']\n",
      "['CL_HandE_1234_B004_bottomright' 'CL_HandE_1234_B004_topleft'\n",
      " 'CL_HandE_1234_B004_topright' 'HandE_B005_CL_b_RGB_bottomright'\n",
      " 'HandE_B005_CL_b_RGB_topleft']\n",
      "Printing IDS: {'HandE_B005_CL_b_RGB_bottomright'}\n",
      "Printing fnames: ['HandE_B005_CL_b_RGB_bottomright___0001.png', 'HandE_B005_CL_b_RGB_bottomright___0015.png', 'HandE_B005_CL_b_RGB_bottomright___0017.png', 'HandE_B005_CL_b_RGB_bottomright___0016.png', 'HandE_B005_CL_b_RGB_bottomright___0002.png', 'HandE_B005_CL_b_RGB_bottomright___0006.png', 'HandE_B005_CL_b_RGB_bottomright___0012.png', 'HandE_B005_CL_b_RGB_bottomright___0007.png', 'HandE_B005_CL_b_RGB_bottomright___0011.png', 'HandE_B005_CL_b_RGB_bottomright___0010.png', 'HandE_B005_CL_b_RGB_bottomright___0021.png']\n",
      "########FOLD: 0##############\n"
     ]
    },
    {
     "data": {
      "application/vnd.jupyter.widget-view+json": {
       "model_id": "f849b14e3dfb4af7962a28b3e64339d9",
       "version_major": 2,
       "version_minor": 0
      },
      "text/plain": [
       "  0%|          | 0/10 [00:00<?, ?it/s]"
      ]
     },
     "metadata": {},
     "output_type": "display_data"
    },
    {
     "name": "stdout",
     "output_type": "stream",
     "text": [
      "FOLD: 0, EPOCH: 1, train_loss: 0.8500821707041367\n",
      "FOLD: 0, EPOCH: 1, valid_loss: 0.9028026357941006\n",
      "FOLD: 0, EPOCH: 2, train_loss: 0.8113205977108168\n",
      "FOLD: 0, EPOCH: 2, valid_loss: 0.9149496697861216\n",
      "FOLD: 0, EPOCH: 3, train_loss: 0.7716972387355306\n",
      "FOLD: 0, EPOCH: 3, valid_loss: 0.904011484073556\n",
      "FOLD: 0, EPOCH: 4, train_loss: 0.7042152648386748\n",
      "FOLD: 0, EPOCH: 4, valid_loss: 0.889623171609381\n",
      "FOLD: 0, EPOCH: 5, train_loss: 0.6532554717167564\n",
      "FOLD: 0, EPOCH: 5, valid_loss: 0.8779418740583502\n",
      "FOLD: 0, EPOCH: 6, train_loss: 0.6366845252721206\n",
      "FOLD: 0, EPOCH: 6, valid_loss: 0.7509802035663439\n",
      "FOLD: 0, EPOCH: 7, train_loss: 0.5926966654217761\n",
      "FOLD: 0, EPOCH: 7, valid_loss: 0.5508129855860835\n",
      "FOLD: 0, EPOCH: 8, train_loss: 0.5776682638603708\n",
      "FOLD: 0, EPOCH: 8, valid_loss: 0.5357959879481274\n",
      "FOLD: 0, EPOCH: 9, train_loss: 0.5436433501865553\n",
      "FOLD: 0, EPOCH: 9, valid_loss: 0.5663680576759836\n",
      "FOLD: 0, EPOCH: 10, train_loss: 0.5343406433644502\n",
      "FOLD: 0, EPOCH: 10, valid_loss: 0.558415113583855\n",
      "['CL_HandE_1234_B004_bottomright' 'CL_HandE_1234_B004_topleft'\n",
      " 'CL_HandE_1234_B004_topright' 'HandE_B005_CL_b_RGB_bottomright'\n",
      " 'HandE_B005_CL_b_RGB_topleft']\n",
      "Printing IDS: {'HandE_B005_CL_b_RGB_bottomright', 'CL_HandE_1234_B004_topright', 'CL_HandE_1234_B004_bottomright', 'HandE_B005_CL_b_RGB_topleft'}\n",
      "Printing fnames: ['HandE_B005_CL_b_RGB_topleft___0002.png', 'HandE_B005_CL_b_RGB_topleft___0016.png', 'HandE_B005_CL_b_RGB_topleft___0017.png', 'HandE_B005_CL_b_RGB_topleft___0003.png', 'HandE_B005_CL_b_RGB_topleft___0015.png', 'CL_HandE_1234_B004_topright___0024.png', 'CL_HandE_1234_B004_topright___0018.png', 'CL_HandE_1234_B004_topright___0019.png', 'HandE_B005_CL_b_RGB_topleft___0014.png', 'HandE_B005_CL_b_RGB_topleft___0010.png', 'HandE_B005_CL_b_RGB_topleft___0004.png', 'CL_HandE_1234_B004_topright___0009.png', 'CL_HandE_1234_B004_topright___0021.png', 'CL_HandE_1234_B004_topright___0020.png', 'CL_HandE_1234_B004_topright___0008.png', 'HandE_B005_CL_b_RGB_topleft___0011.png', 'HandE_B005_CL_b_RGB_topleft___0007.png', 'HandE_B005_CL_b_RGB_topleft___0013.png', 'CL_HandE_1234_B004_topright___0022.png', 'CL_HandE_1234_B004_topright___0023.png', 'HandE_B005_CL_b_RGB_topleft___0012.png', 'HandE_B005_CL_b_RGB_topleft___0006.png', 'CL_HandE_1234_B004_bottomright___0020.png', 'CL_HandE_1234_B004_bottomright___0008.png', 'HandE_B005_CL_b_RGB_bottomright___0001.png', 'HandE_B005_CL_b_RGB_bottomright___0015.png', 'CL_HandE_1234_B004_bottomright___0009.png', 'CL_HandE_1234_B004_bottomright___0021.png', 'CL_HandE_1234_B004_bottomright___0023.png', 'HandE_B005_CL_b_RGB_bottomright___0017.png', 'HandE_B005_CL_b_RGB_bottomright___0016.png', 'HandE_B005_CL_b_RGB_bottomright___0002.png', 'CL_HandE_1234_B004_bottomright___0022.png', 'HandE_B005_CL_b_RGB_bottomright___0006.png', 'HandE_B005_CL_b_RGB_bottomright___0012.png', 'HandE_B005_CL_b_RGB_bottomright___0007.png', 'CL_HandE_1234_B004_bottomright___0019.png', 'HandE_B005_CL_b_RGB_bottomright___0011.png', 'HandE_B005_CL_b_RGB_bottomright___0010.png', 'CL_HandE_1234_B004_bottomright___0024.png', 'CL_HandE_1234_B004_bottomright___0018.png', 'CL_HandE_1234_B004_bottomright___0015.png', 'CL_HandE_1234_B004_bottomright___0001.png', 'HandE_B005_CL_b_RGB_bottomright___0021.png', 'CL_HandE_1234_B004_bottomright___0000.png', 'CL_HandE_1234_B004_bottomright___0014.png', 'CL_HandE_1234_B004_bottomright___0002.png', 'CL_HandE_1234_B004_bottomright___0016.png', 'CL_HandE_1234_B004_bottomright___0017.png', 'CL_HandE_1234_B004_bottomright___0003.png', 'CL_HandE_1234_B004_bottomright___0007.png', 'CL_HandE_1234_B004_bottomright___0013.png', 'CL_HandE_1234_B004_bottomright___0012.png', 'CL_HandE_1234_B004_bottomright___0006.png', 'CL_HandE_1234_B004_bottomright___0010.png', 'CL_HandE_1234_B004_bottomright___0004.png', 'CL_HandE_1234_B004_bottomright___0005.png', 'CL_HandE_1234_B004_bottomright___0011.png', 'HandE_B005_CL_b_RGB_topleft___0023.png', 'CL_HandE_1234_B004_topright___0006.png', 'CL_HandE_1234_B004_topright___0012.png', 'CL_HandE_1234_B004_topright___0013.png', 'CL_HandE_1234_B004_topright___0007.png', 'HandE_B005_CL_b_RGB_topleft___0022.png', 'HandE_B005_CL_b_RGB_topleft___0020.png', 'HandE_B005_CL_b_RGB_topleft___0008.png', 'CL_HandE_1234_B004_topright___0004.png', 'HandE_B005_CL_b_RGB_topleft___0009.png', 'HandE_B005_CL_b_RGB_topleft___0021.png', 'HandE_B005_CL_b_RGB_topleft___0019.png', 'CL_HandE_1234_B004_topright___0014.png', 'CL_HandE_1234_B004_topright___0000.png', 'CL_HandE_1234_B004_topright___0001.png', 'HandE_B005_CL_b_RGB_topleft___0024.png', 'HandE_B005_CL_b_RGB_topleft___0018.png', 'CL_HandE_1234_B004_topright___0003.png', 'CL_HandE_1234_B004_topright___0017.png', 'CL_HandE_1234_B004_topright___0016.png', 'CL_HandE_1234_B004_topright___0002.png']\n",
      "['CL_HandE_1234_B004_bottomright' 'CL_HandE_1234_B004_topleft'\n",
      " 'CL_HandE_1234_B004_topright' 'HandE_B005_CL_b_RGB_bottomright'\n",
      " 'HandE_B005_CL_b_RGB_topleft']\n",
      "Printing IDS: {'CL_HandE_1234_B004_topleft'}\n",
      "Printing fnames: ['CL_HandE_1234_B004_topleft___0015.png', 'CL_HandE_1234_B004_topleft___0001.png', 'CL_HandE_1234_B004_topleft___0000.png', 'CL_HandE_1234_B004_topleft___0014.png', 'CL_HandE_1234_B004_topleft___0002.png', 'CL_HandE_1234_B004_topleft___0016.png', 'CL_HandE_1234_B004_topleft___0017.png', 'CL_HandE_1234_B004_topleft___0003.png', 'CL_HandE_1234_B004_topleft___0007.png', 'CL_HandE_1234_B004_topleft___0012.png', 'CL_HandE_1234_B004_topleft___0006.png', 'CL_HandE_1234_B004_topleft___0010.png', 'CL_HandE_1234_B004_topleft___0004.png', 'CL_HandE_1234_B004_topleft___0005.png', 'CL_HandE_1234_B004_topleft___0011.png', 'CL_HandE_1234_B004_topleft___0020.png', 'CL_HandE_1234_B004_topleft___0008.png', 'CL_HandE_1234_B004_topleft___0009.png', 'CL_HandE_1234_B004_topleft___0021.png', 'CL_HandE_1234_B004_topleft___0023.png', 'CL_HandE_1234_B004_topleft___0022.png', 'CL_HandE_1234_B004_topleft___0019.png', 'CL_HandE_1234_B004_topleft___0024.png', 'CL_HandE_1234_B004_topleft___0018.png']\n",
      "########FOLD: 1##############\n"
     ]
    },
    {
     "data": {
      "application/vnd.jupyter.widget-view+json": {
       "model_id": "e17545d8660748acaaeeb6c1bb4eeac6",
       "version_major": 2,
       "version_minor": 0
      },
      "text/plain": [
       "  0%|          | 0/10 [00:00<?, ?it/s]"
      ]
     },
     "metadata": {},
     "output_type": "display_data"
    },
    {
     "name": "stdout",
     "output_type": "stream",
     "text": [
      "FOLD: 1, EPOCH: 1, train_loss: 0.8690102666616439\n",
      "FOLD: 1, EPOCH: 1, valid_loss: 0.9209140673279762\n",
      "FOLD: 1, EPOCH: 2, train_loss: 0.826978300511837\n",
      "FOLD: 1, EPOCH: 2, valid_loss: 0.9186007007956505\n",
      "FOLD: 1, EPOCH: 3, train_loss: 0.8225764125585556\n",
      "FOLD: 1, EPOCH: 3, valid_loss: 0.9208853945136071\n",
      "FOLD: 1, EPOCH: 4, train_loss: 0.7886704459786416\n",
      "FOLD: 1, EPOCH: 4, valid_loss: 0.916913528740406\n",
      "FOLD: 1, EPOCH: 5, train_loss: 0.7676811531186104\n",
      "FOLD: 1, EPOCH: 5, valid_loss: 0.9201241746544838\n",
      "FOLD: 1, EPOCH: 6, train_loss: 0.7092205911874772\n",
      "FOLD: 1, EPOCH: 6, valid_loss: 0.9209584534168244\n",
      "FOLD: 1, EPOCH: 7, train_loss: 0.6694755911827087\n",
      "FOLD: 1, EPOCH: 7, valid_loss: 0.8762943595647812\n",
      "FOLD: 1, EPOCH: 8, train_loss: 0.6518570765852928\n",
      "FOLD: 1, EPOCH: 8, valid_loss: 0.7559558570384979\n",
      "FOLD: 1, EPOCH: 9, train_loss: 0.6182108581066131\n",
      "FOLD: 1, EPOCH: 9, valid_loss: 0.7259458810091018\n",
      "FOLD: 1, EPOCH: 10, train_loss: 0.6255425870418548\n",
      "FOLD: 1, EPOCH: 10, valid_loss: 0.698564738035202\n",
      "['CL_HandE_1234_B004_bottomright' 'CL_HandE_1234_B004_topleft'\n",
      " 'CL_HandE_1234_B004_topright' 'HandE_B005_CL_b_RGB_bottomright'\n",
      " 'HandE_B005_CL_b_RGB_topleft']\n",
      "Printing IDS: {'CL_HandE_1234_B004_topleft', 'HandE_B005_CL_b_RGB_bottomright', 'CL_HandE_1234_B004_bottomright', 'HandE_B005_CL_b_RGB_topleft'}\n",
      "Printing fnames: ['HandE_B005_CL_b_RGB_topleft___0002.png', 'HandE_B005_CL_b_RGB_topleft___0016.png', 'HandE_B005_CL_b_RGB_topleft___0017.png', 'HandE_B005_CL_b_RGB_topleft___0003.png', 'HandE_B005_CL_b_RGB_topleft___0015.png', 'HandE_B005_CL_b_RGB_topleft___0014.png', 'HandE_B005_CL_b_RGB_topleft___0010.png', 'HandE_B005_CL_b_RGB_topleft___0004.png', 'HandE_B005_CL_b_RGB_topleft___0011.png', 'HandE_B005_CL_b_RGB_topleft___0007.png', 'HandE_B005_CL_b_RGB_topleft___0013.png', 'HandE_B005_CL_b_RGB_topleft___0012.png', 'HandE_B005_CL_b_RGB_topleft___0006.png', 'CL_HandE_1234_B004_bottomright___0020.png', 'CL_HandE_1234_B004_bottomright___0008.png', 'CL_HandE_1234_B004_topleft___0015.png', 'CL_HandE_1234_B004_topleft___0001.png', 'HandE_B005_CL_b_RGB_bottomright___0001.png', 'CL_HandE_1234_B004_topleft___0000.png', 'CL_HandE_1234_B004_topleft___0014.png', 'HandE_B005_CL_b_RGB_bottomright___0015.png', 'CL_HandE_1234_B004_bottomright___0009.png', 'CL_HandE_1234_B004_bottomright___0021.png', 'CL_HandE_1234_B004_bottomright___0023.png', 'CL_HandE_1234_B004_topleft___0002.png', 'HandE_B005_CL_b_RGB_bottomright___0017.png', 'CL_HandE_1234_B004_topleft___0016.png', 'HandE_B005_CL_b_RGB_bottomright___0016.png', 'CL_HandE_1234_B004_topleft___0017.png', 'CL_HandE_1234_B004_topleft___0003.png', 'HandE_B005_CL_b_RGB_bottomright___0002.png', 'CL_HandE_1234_B004_bottomright___0022.png', 'HandE_B005_CL_b_RGB_bottomright___0006.png', 'CL_HandE_1234_B004_topleft___0007.png', 'HandE_B005_CL_b_RGB_bottomright___0012.png', 'CL_HandE_1234_B004_topleft___0012.png', 'HandE_B005_CL_b_RGB_bottomright___0007.png', 'CL_HandE_1234_B004_topleft___0006.png', 'CL_HandE_1234_B004_bottomright___0019.png', 'HandE_B005_CL_b_RGB_bottomright___0011.png', 'CL_HandE_1234_B004_topleft___0010.png', 'CL_HandE_1234_B004_topleft___0004.png', 'CL_HandE_1234_B004_topleft___0005.png', 'HandE_B005_CL_b_RGB_bottomright___0010.png', 'CL_HandE_1234_B004_topleft___0011.png', 'CL_HandE_1234_B004_bottomright___0024.png', 'CL_HandE_1234_B004_bottomright___0018.png', 'CL_HandE_1234_B004_bottomright___0015.png', 'CL_HandE_1234_B004_bottomright___0001.png', 'HandE_B005_CL_b_RGB_bottomright___0021.png', 'CL_HandE_1234_B004_topleft___0020.png', 'CL_HandE_1234_B004_topleft___0008.png', 'CL_HandE_1234_B004_topleft___0009.png', 'CL_HandE_1234_B004_topleft___0021.png', 'CL_HandE_1234_B004_bottomright___0000.png', 'CL_HandE_1234_B004_bottomright___0014.png', 'CL_HandE_1234_B004_bottomright___0002.png', 'CL_HandE_1234_B004_bottomright___0016.png', 'CL_HandE_1234_B004_topleft___0023.png', 'CL_HandE_1234_B004_topleft___0022.png', 'CL_HandE_1234_B004_bottomright___0017.png', 'CL_HandE_1234_B004_bottomright___0003.png', 'CL_HandE_1234_B004_bottomright___0007.png', 'CL_HandE_1234_B004_bottomright___0013.png', 'CL_HandE_1234_B004_bottomright___0012.png', 'CL_HandE_1234_B004_bottomright___0006.png', 'CL_HandE_1234_B004_bottomright___0010.png', 'CL_HandE_1234_B004_bottomright___0004.png', 'CL_HandE_1234_B004_topleft___0019.png', 'CL_HandE_1234_B004_topleft___0024.png', 'CL_HandE_1234_B004_topleft___0018.png', 'CL_HandE_1234_B004_bottomright___0005.png', 'CL_HandE_1234_B004_bottomright___0011.png', 'HandE_B005_CL_b_RGB_topleft___0023.png', 'HandE_B005_CL_b_RGB_topleft___0022.png', 'HandE_B005_CL_b_RGB_topleft___0020.png', 'HandE_B005_CL_b_RGB_topleft___0008.png', 'HandE_B005_CL_b_RGB_topleft___0009.png', 'HandE_B005_CL_b_RGB_topleft___0021.png', 'HandE_B005_CL_b_RGB_topleft___0019.png', 'HandE_B005_CL_b_RGB_topleft___0024.png', 'HandE_B005_CL_b_RGB_topleft___0018.png']\n",
      "['CL_HandE_1234_B004_bottomright' 'CL_HandE_1234_B004_topleft'\n",
      " 'CL_HandE_1234_B004_topright' 'HandE_B005_CL_b_RGB_bottomright'\n",
      " 'HandE_B005_CL_b_RGB_topleft']\n",
      "Printing IDS: {'CL_HandE_1234_B004_topright'}\n",
      "Printing fnames: ['CL_HandE_1234_B004_topright___0024.png', 'CL_HandE_1234_B004_topright___0018.png', 'CL_HandE_1234_B004_topright___0019.png', 'CL_HandE_1234_B004_topright___0009.png', 'CL_HandE_1234_B004_topright___0021.png', 'CL_HandE_1234_B004_topright___0020.png', 'CL_HandE_1234_B004_topright___0008.png', 'CL_HandE_1234_B004_topright___0022.png', 'CL_HandE_1234_B004_topright___0023.png', 'CL_HandE_1234_B004_topright___0006.png', 'CL_HandE_1234_B004_topright___0012.png', 'CL_HandE_1234_B004_topright___0013.png', 'CL_HandE_1234_B004_topright___0007.png', 'CL_HandE_1234_B004_topright___0004.png', 'CL_HandE_1234_B004_topright___0014.png', 'CL_HandE_1234_B004_topright___0000.png', 'CL_HandE_1234_B004_topright___0001.png', 'CL_HandE_1234_B004_topright___0003.png', 'CL_HandE_1234_B004_topright___0017.png', 'CL_HandE_1234_B004_topright___0016.png', 'CL_HandE_1234_B004_topright___0002.png']\n",
      "########FOLD: 2##############\n"
     ]
    },
    {
     "data": {
      "application/vnd.jupyter.widget-view+json": {
       "model_id": "d314e3642d2041dcb7b8bbb9c640607f",
       "version_major": 2,
       "version_minor": 0
      },
      "text/plain": [
       "  0%|          | 0/10 [00:00<?, ?it/s]"
      ]
     },
     "metadata": {},
     "output_type": "display_data"
    },
    {
     "name": "stdout",
     "output_type": "stream",
     "text": [
      "FOLD: 2, EPOCH: 1, train_loss: 0.8359045575304729\n",
      "FOLD: 2, EPOCH: 1, valid_loss: 0.9617947572615089\n",
      "FOLD: 2, EPOCH: 2, train_loss: 0.7552716630261119\n",
      "FOLD: 2, EPOCH: 2, valid_loss: 0.9002735672927484\n",
      "FOLD: 2, EPOCH: 3, train_loss: 0.7807519799325524\n",
      "FOLD: 2, EPOCH: 3, valid_loss: 0.9007676287395198\n",
      "FOLD: 2, EPOCH: 4, train_loss: 0.7154061009244221\n",
      "FOLD: 2, EPOCH: 4, valid_loss: 0.8940205094290943\n",
      "FOLD: 2, EPOCH: 5, train_loss: 0.6157332833220319\n",
      "FOLD: 2, EPOCH: 5, valid_loss: 0.8965174439476757\n",
      "FOLD: 2, EPOCH: 6, train_loss: 0.5883065462112427\n",
      "FOLD: 2, EPOCH: 6, valid_loss: 0.701378056188909\n",
      "FOLD: 2, EPOCH: 7, train_loss: 0.5740677292754011\n",
      "FOLD: 2, EPOCH: 7, valid_loss: 0.6425786381814538\n",
      "FOLD: 2, EPOCH: 8, train_loss: 0.5247707977527525\n",
      "FOLD: 2, EPOCH: 8, valid_loss: 0.5586438295317859\n",
      "FOLD: 2, EPOCH: 9, train_loss: 0.5196093844204415\n",
      "FOLD: 2, EPOCH: 9, valid_loss: 0.5536972647759972\n",
      "FOLD: 2, EPOCH: 10, train_loss: 0.5113066129568147\n",
      "FOLD: 2, EPOCH: 10, valid_loss: 0.5466506873689047\n",
      "['CL_HandE_1234_B004_bottomright' 'CL_HandE_1234_B004_topleft'\n",
      " 'CL_HandE_1234_B004_topright' 'HandE_B005_CL_b_RGB_bottomright'\n",
      " 'HandE_B005_CL_b_RGB_topleft']\n",
      "Printing IDS: {'CL_HandE_1234_B004_topleft', 'HandE_B005_CL_b_RGB_bottomright', 'CL_HandE_1234_B004_topright', 'CL_HandE_1234_B004_bottomright'}\n",
      "Printing fnames: ['CL_HandE_1234_B004_topright___0024.png', 'CL_HandE_1234_B004_topright___0018.png', 'CL_HandE_1234_B004_topright___0019.png', 'CL_HandE_1234_B004_topright___0009.png', 'CL_HandE_1234_B004_topright___0021.png', 'CL_HandE_1234_B004_topright___0020.png', 'CL_HandE_1234_B004_topright___0008.png', 'CL_HandE_1234_B004_topright___0022.png', 'CL_HandE_1234_B004_topright___0023.png', 'CL_HandE_1234_B004_bottomright___0020.png', 'CL_HandE_1234_B004_bottomright___0008.png', 'CL_HandE_1234_B004_topleft___0015.png', 'CL_HandE_1234_B004_topleft___0001.png', 'HandE_B005_CL_b_RGB_bottomright___0001.png', 'CL_HandE_1234_B004_topleft___0000.png', 'CL_HandE_1234_B004_topleft___0014.png', 'HandE_B005_CL_b_RGB_bottomright___0015.png', 'CL_HandE_1234_B004_bottomright___0009.png', 'CL_HandE_1234_B004_bottomright___0021.png', 'CL_HandE_1234_B004_bottomright___0023.png', 'CL_HandE_1234_B004_topleft___0002.png', 'HandE_B005_CL_b_RGB_bottomright___0017.png', 'CL_HandE_1234_B004_topleft___0016.png', 'HandE_B005_CL_b_RGB_bottomright___0016.png', 'CL_HandE_1234_B004_topleft___0017.png', 'CL_HandE_1234_B004_topleft___0003.png', 'HandE_B005_CL_b_RGB_bottomright___0002.png', 'CL_HandE_1234_B004_bottomright___0022.png', 'HandE_B005_CL_b_RGB_bottomright___0006.png', 'CL_HandE_1234_B004_topleft___0007.png', 'HandE_B005_CL_b_RGB_bottomright___0012.png', 'CL_HandE_1234_B004_topleft___0012.png', 'HandE_B005_CL_b_RGB_bottomright___0007.png', 'CL_HandE_1234_B004_topleft___0006.png', 'CL_HandE_1234_B004_bottomright___0019.png', 'HandE_B005_CL_b_RGB_bottomright___0011.png', 'CL_HandE_1234_B004_topleft___0010.png', 'CL_HandE_1234_B004_topleft___0004.png', 'CL_HandE_1234_B004_topleft___0005.png', 'HandE_B005_CL_b_RGB_bottomright___0010.png', 'CL_HandE_1234_B004_topleft___0011.png', 'CL_HandE_1234_B004_bottomright___0024.png', 'CL_HandE_1234_B004_bottomright___0018.png', 'CL_HandE_1234_B004_bottomright___0015.png', 'CL_HandE_1234_B004_bottomright___0001.png', 'HandE_B005_CL_b_RGB_bottomright___0021.png', 'CL_HandE_1234_B004_topleft___0020.png', 'CL_HandE_1234_B004_topleft___0008.png', 'CL_HandE_1234_B004_topleft___0009.png', 'CL_HandE_1234_B004_topleft___0021.png', 'CL_HandE_1234_B004_bottomright___0000.png', 'CL_HandE_1234_B004_bottomright___0014.png', 'CL_HandE_1234_B004_bottomright___0002.png', 'CL_HandE_1234_B004_bottomright___0016.png', 'CL_HandE_1234_B004_topleft___0023.png', 'CL_HandE_1234_B004_topleft___0022.png', 'CL_HandE_1234_B004_bottomright___0017.png', 'CL_HandE_1234_B004_bottomright___0003.png', 'CL_HandE_1234_B004_bottomright___0007.png', 'CL_HandE_1234_B004_bottomright___0013.png', 'CL_HandE_1234_B004_bottomright___0012.png', 'CL_HandE_1234_B004_bottomright___0006.png', 'CL_HandE_1234_B004_bottomright___0010.png', 'CL_HandE_1234_B004_bottomright___0004.png', 'CL_HandE_1234_B004_topleft___0019.png', 'CL_HandE_1234_B004_topleft___0024.png', 'CL_HandE_1234_B004_topleft___0018.png', 'CL_HandE_1234_B004_bottomright___0005.png', 'CL_HandE_1234_B004_bottomright___0011.png', 'CL_HandE_1234_B004_topright___0006.png', 'CL_HandE_1234_B004_topright___0012.png', 'CL_HandE_1234_B004_topright___0013.png', 'CL_HandE_1234_B004_topright___0007.png', 'CL_HandE_1234_B004_topright___0004.png', 'CL_HandE_1234_B004_topright___0014.png', 'CL_HandE_1234_B004_topright___0000.png', 'CL_HandE_1234_B004_topright___0001.png', 'CL_HandE_1234_B004_topright___0003.png', 'CL_HandE_1234_B004_topright___0017.png', 'CL_HandE_1234_B004_topright___0016.png', 'CL_HandE_1234_B004_topright___0002.png']\n",
      "['CL_HandE_1234_B004_bottomright' 'CL_HandE_1234_B004_topleft'\n",
      " 'CL_HandE_1234_B004_topright' 'HandE_B005_CL_b_RGB_bottomright'\n",
      " 'HandE_B005_CL_b_RGB_topleft']\n",
      "Printing IDS: {'HandE_B005_CL_b_RGB_topleft'}\n",
      "Printing fnames: ['HandE_B005_CL_b_RGB_topleft___0002.png', 'HandE_B005_CL_b_RGB_topleft___0016.png', 'HandE_B005_CL_b_RGB_topleft___0017.png', 'HandE_B005_CL_b_RGB_topleft___0003.png', 'HandE_B005_CL_b_RGB_topleft___0015.png', 'HandE_B005_CL_b_RGB_topleft___0014.png', 'HandE_B005_CL_b_RGB_topleft___0010.png', 'HandE_B005_CL_b_RGB_topleft___0004.png', 'HandE_B005_CL_b_RGB_topleft___0011.png', 'HandE_B005_CL_b_RGB_topleft___0007.png', 'HandE_B005_CL_b_RGB_topleft___0013.png', 'HandE_B005_CL_b_RGB_topleft___0012.png', 'HandE_B005_CL_b_RGB_topleft___0006.png', 'HandE_B005_CL_b_RGB_topleft___0023.png', 'HandE_B005_CL_b_RGB_topleft___0022.png', 'HandE_B005_CL_b_RGB_topleft___0020.png', 'HandE_B005_CL_b_RGB_topleft___0008.png', 'HandE_B005_CL_b_RGB_topleft___0009.png', 'HandE_B005_CL_b_RGB_topleft___0021.png', 'HandE_B005_CL_b_RGB_topleft___0019.png', 'HandE_B005_CL_b_RGB_topleft___0024.png', 'HandE_B005_CL_b_RGB_topleft___0018.png']\n",
      "########FOLD: 3##############\n"
     ]
    },
    {
     "data": {
      "application/vnd.jupyter.widget-view+json": {
       "model_id": "baff0201ba8a45ac8bc8ad018b43cb78",
       "version_major": 2,
       "version_minor": 0
      },
      "text/plain": [
       "  0%|          | 0/10 [00:00<?, ?it/s]"
      ]
     },
     "metadata": {},
     "output_type": "display_data"
    },
    {
     "name": "stdout",
     "output_type": "stream",
     "text": [
      "FOLD: 3, EPOCH: 1, train_loss: 0.8185679752652238\n",
      "FOLD: 3, EPOCH: 1, valid_loss: 0.8967496592824052\n",
      "FOLD: 3, EPOCH: 2, train_loss: 0.8114934970692891\n",
      "FOLD: 3, EPOCH: 2, valid_loss: 0.8965911734394911\n",
      "FOLD: 3, EPOCH: 3, train_loss: 0.7746294053589425\n",
      "FOLD: 3, EPOCH: 3, valid_loss: 0.9053056690751052\n",
      "FOLD: 3, EPOCH: 4, train_loss: 0.7145495618261942\n",
      "FOLD: 3, EPOCH: 4, valid_loss: 0.8973133462231334\n",
      "FOLD: 3, EPOCH: 5, train_loss: 0.6951288857111116\n",
      "FOLD: 3, EPOCH: 5, valid_loss: 0.8862374454009824\n",
      "FOLD: 3, EPOCH: 6, train_loss: 0.6147293535674491\n",
      "FOLD: 3, EPOCH: 6, valid_loss: 0.7372056420256452\n",
      "FOLD: 3, EPOCH: 7, train_loss: 0.5699058247775566\n",
      "FOLD: 3, EPOCH: 7, valid_loss: 0.6114333926177606\n",
      "FOLD: 3, EPOCH: 8, train_loss: 0.5556474502493696\n",
      "FOLD: 3, EPOCH: 8, valid_loss: 0.5437004449890881\n",
      "FOLD: 3, EPOCH: 9, train_loss: 0.5312206439855622\n",
      "FOLD: 3, EPOCH: 9, valid_loss: 0.5238645527420974\n",
      "FOLD: 3, EPOCH: 10, train_loss: 0.5369952408278861\n",
      "FOLD: 3, EPOCH: 10, valid_loss: 0.5432738385549406\n",
      "['CL_HandE_1234_B004_bottomright' 'CL_HandE_1234_B004_topleft'\n",
      " 'CL_HandE_1234_B004_topright' 'HandE_B005_CL_b_RGB_bottomright'\n",
      " 'HandE_B005_CL_b_RGB_topleft']\n",
      "Printing IDS: {'CL_HandE_1234_B004_topleft', 'CL_HandE_1234_B004_topright', 'HandE_B005_CL_b_RGB_bottomright', 'HandE_B005_CL_b_RGB_topleft'}\n",
      "Printing fnames: ['HandE_B005_CL_b_RGB_topleft___0002.png', 'HandE_B005_CL_b_RGB_topleft___0016.png', 'HandE_B005_CL_b_RGB_topleft___0017.png', 'HandE_B005_CL_b_RGB_topleft___0003.png', 'HandE_B005_CL_b_RGB_topleft___0015.png', 'CL_HandE_1234_B004_topright___0024.png', 'CL_HandE_1234_B004_topright___0018.png', 'CL_HandE_1234_B004_topright___0019.png', 'HandE_B005_CL_b_RGB_topleft___0014.png', 'HandE_B005_CL_b_RGB_topleft___0010.png', 'HandE_B005_CL_b_RGB_topleft___0004.png', 'CL_HandE_1234_B004_topright___0009.png', 'CL_HandE_1234_B004_topright___0021.png', 'CL_HandE_1234_B004_topright___0020.png', 'CL_HandE_1234_B004_topright___0008.png', 'HandE_B005_CL_b_RGB_topleft___0011.png', 'HandE_B005_CL_b_RGB_topleft___0007.png', 'HandE_B005_CL_b_RGB_topleft___0013.png', 'CL_HandE_1234_B004_topright___0022.png', 'CL_HandE_1234_B004_topright___0023.png', 'HandE_B005_CL_b_RGB_topleft___0012.png', 'HandE_B005_CL_b_RGB_topleft___0006.png', 'CL_HandE_1234_B004_topleft___0015.png', 'CL_HandE_1234_B004_topleft___0001.png', 'HandE_B005_CL_b_RGB_bottomright___0001.png', 'CL_HandE_1234_B004_topleft___0000.png', 'CL_HandE_1234_B004_topleft___0014.png', 'HandE_B005_CL_b_RGB_bottomright___0015.png', 'CL_HandE_1234_B004_topleft___0002.png', 'HandE_B005_CL_b_RGB_bottomright___0017.png', 'CL_HandE_1234_B004_topleft___0016.png', 'HandE_B005_CL_b_RGB_bottomright___0016.png', 'CL_HandE_1234_B004_topleft___0017.png', 'CL_HandE_1234_B004_topleft___0003.png', 'HandE_B005_CL_b_RGB_bottomright___0002.png', 'HandE_B005_CL_b_RGB_bottomright___0006.png', 'CL_HandE_1234_B004_topleft___0007.png', 'HandE_B005_CL_b_RGB_bottomright___0012.png', 'CL_HandE_1234_B004_topleft___0012.png', 'HandE_B005_CL_b_RGB_bottomright___0007.png', 'CL_HandE_1234_B004_topleft___0006.png', 'HandE_B005_CL_b_RGB_bottomright___0011.png', 'CL_HandE_1234_B004_topleft___0010.png', 'CL_HandE_1234_B004_topleft___0004.png', 'CL_HandE_1234_B004_topleft___0005.png', 'HandE_B005_CL_b_RGB_bottomright___0010.png', 'CL_HandE_1234_B004_topleft___0011.png', 'HandE_B005_CL_b_RGB_bottomright___0021.png', 'CL_HandE_1234_B004_topleft___0020.png', 'CL_HandE_1234_B004_topleft___0008.png', 'CL_HandE_1234_B004_topleft___0009.png', 'CL_HandE_1234_B004_topleft___0021.png', 'CL_HandE_1234_B004_topleft___0023.png', 'CL_HandE_1234_B004_topleft___0022.png', 'CL_HandE_1234_B004_topleft___0019.png', 'CL_HandE_1234_B004_topleft___0024.png', 'CL_HandE_1234_B004_topleft___0018.png', 'HandE_B005_CL_b_RGB_topleft___0023.png', 'CL_HandE_1234_B004_topright___0006.png', 'CL_HandE_1234_B004_topright___0012.png', 'CL_HandE_1234_B004_topright___0013.png', 'CL_HandE_1234_B004_topright___0007.png', 'HandE_B005_CL_b_RGB_topleft___0022.png', 'HandE_B005_CL_b_RGB_topleft___0020.png', 'HandE_B005_CL_b_RGB_topleft___0008.png', 'CL_HandE_1234_B004_topright___0004.png', 'HandE_B005_CL_b_RGB_topleft___0009.png', 'HandE_B005_CL_b_RGB_topleft___0021.png', 'HandE_B005_CL_b_RGB_topleft___0019.png', 'CL_HandE_1234_B004_topright___0014.png', 'CL_HandE_1234_B004_topright___0000.png', 'CL_HandE_1234_B004_topright___0001.png', 'HandE_B005_CL_b_RGB_topleft___0024.png', 'HandE_B005_CL_b_RGB_topleft___0018.png', 'CL_HandE_1234_B004_topright___0003.png', 'CL_HandE_1234_B004_topright___0017.png', 'CL_HandE_1234_B004_topright___0016.png', 'CL_HandE_1234_B004_topright___0002.png']\n",
      "['CL_HandE_1234_B004_bottomright' 'CL_HandE_1234_B004_topleft'\n",
      " 'CL_HandE_1234_B004_topright' 'HandE_B005_CL_b_RGB_bottomright'\n",
      " 'HandE_B005_CL_b_RGB_topleft']\n",
      "Printing IDS: {'CL_HandE_1234_B004_bottomright'}\n",
      "Printing fnames: ['CL_HandE_1234_B004_bottomright___0020.png', 'CL_HandE_1234_B004_bottomright___0008.png', 'CL_HandE_1234_B004_bottomright___0009.png', 'CL_HandE_1234_B004_bottomright___0021.png', 'CL_HandE_1234_B004_bottomright___0023.png', 'CL_HandE_1234_B004_bottomright___0022.png', 'CL_HandE_1234_B004_bottomright___0019.png', 'CL_HandE_1234_B004_bottomright___0024.png', 'CL_HandE_1234_B004_bottomright___0018.png', 'CL_HandE_1234_B004_bottomright___0015.png', 'CL_HandE_1234_B004_bottomright___0001.png', 'CL_HandE_1234_B004_bottomright___0000.png', 'CL_HandE_1234_B004_bottomright___0014.png', 'CL_HandE_1234_B004_bottomright___0002.png', 'CL_HandE_1234_B004_bottomright___0016.png', 'CL_HandE_1234_B004_bottomright___0017.png', 'CL_HandE_1234_B004_bottomright___0003.png', 'CL_HandE_1234_B004_bottomright___0007.png', 'CL_HandE_1234_B004_bottomright___0013.png', 'CL_HandE_1234_B004_bottomright___0012.png', 'CL_HandE_1234_B004_bottomright___0006.png', 'CL_HandE_1234_B004_bottomright___0010.png', 'CL_HandE_1234_B004_bottomright___0004.png', 'CL_HandE_1234_B004_bottomright___0005.png', 'CL_HandE_1234_B004_bottomright___0011.png']\n",
      "########FOLD: 4##############\n"
     ]
    },
    {
     "data": {
      "application/vnd.jupyter.widget-view+json": {
       "model_id": "4c495bc540694e0c972b2e93179c5b58",
       "version_major": 2,
       "version_minor": 0
      },
      "text/plain": [
       "  0%|          | 0/10 [00:00<?, ?it/s]"
      ]
     },
     "metadata": {},
     "output_type": "display_data"
    },
    {
     "name": "stdout",
     "output_type": "stream",
     "text": [
      "FOLD: 4, EPOCH: 1, train_loss: 0.8465065986682208\n",
      "FOLD: 4, EPOCH: 1, valid_loss: 0.9092509868817452\n",
      "FOLD: 4, EPOCH: 2, train_loss: 0.7664016042000208\n",
      "FOLD: 4, EPOCH: 2, valid_loss: 0.9078788742040976\n",
      "FOLD: 4, EPOCH: 3, train_loss: 0.7175790209036607\n",
      "FOLD: 4, EPOCH: 3, valid_loss: 0.9075001569894644\n",
      "FOLD: 4, EPOCH: 4, train_loss: 0.6239249736834795\n",
      "FOLD: 4, EPOCH: 4, valid_loss: 0.9077130265724964\n",
      "FOLD: 4, EPOCH: 5, train_loss: 0.6089655344302838\n",
      "FOLD: 4, EPOCH: 5, valid_loss: 0.8026819198559492\n",
      "FOLD: 4, EPOCH: 6, train_loss: 0.5586035633698488\n",
      "FOLD: 4, EPOCH: 6, valid_loss: 0.7018916209538778\n",
      "FOLD: 4, EPOCH: 7, train_loss: 0.5278085561899039\n",
      "FOLD: 4, EPOCH: 7, valid_loss: 0.5360491474469503\n",
      "FOLD: 4, EPOCH: 8, train_loss: 0.5090063076752883\n",
      "FOLD: 4, EPOCH: 8, valid_loss: 0.5121600215251629\n",
      "FOLD: 4, EPOCH: 9, train_loss: 0.5016083121299744\n",
      "FOLD: 4, EPOCH: 9, valid_loss: 0.5112476623975314\n",
      "FOLD: 4, EPOCH: 10, train_loss: 0.49729455587191457\n",
      "FOLD: 4, EPOCH: 10, valid_loss: 0.5066020656854678\n"
     ]
    }
   ],
   "source": [
    "cv_score = 0\n",
    "for fold in range(nfolds):\n",
    "    ds_t = HuBMAPDataset(fold=fold, train=True, tfms=get_aug())\n",
    "    ds_v = HuBMAPDataset(fold=fold, train=False)\n",
    "    dataloader_t = torch.utils.data.DataLoader(ds_t,batch_size=BATCH_SIZE, shuffle=False,num_workers=NUM_WORKERS)\n",
    "    dataloader_v = torch.utils.data.DataLoader(ds_t,batch_size=BATCH_SIZE, shuffle=False,num_workers=NUM_WORKERS)\n",
    "    model = get_UnetPlusPlus().to(DEVICE)\n",
    "    \n",
    "    optimizer = torch.optim.Adam([\n",
    "        {'params': model.decoder.parameters(), 'lr': 1e-3}, \n",
    "        {'params': model.encoder.parameters(), 'lr': 1e-3},  \n",
    "    ])\n",
    "    scheduler = optim.lr_scheduler.OneCycleLR(optimizer=optimizer, pct_start=0.1, div_factor=1e3, \n",
    "                                              max_lr=1e-2, epochs=EPOCHS, steps_per_epoch=len(dataloader_t))\n",
    "    \n",
    "    diceloss = DiceLoss()\n",
    "    \n",
    "    print(f\"########FOLD: {fold}##############\")\n",
    "    \n",
    "    for epoch in tqdm(range(EPOCHS)):\n",
    "        ###Train\n",
    "        model.train()\n",
    "        train_loss = 0\n",
    "    \n",
    "        for data in dataloader_t:\n",
    "            optimizer.zero_grad()\n",
    "            img, mask = data\n",
    "            img = img.to(DEVICE)\n",
    "            mask = mask.to(DEVICE)\n",
    "        \n",
    "            outputs = model(img)\n",
    "    \n",
    "            loss = diceloss(outputs, mask)\n",
    "            loss.backward()\n",
    "            optimizer.step()\n",
    "            scheduler.step()\n",
    "            \n",
    "            train_loss += loss.item()\n",
    "        train_loss /= len(dataloader_t)\n",
    "        \n",
    "        print(f\"FOLD: {fold}, EPOCH: {epoch + 1}, train_loss: {train_loss}\")\n",
    "        \n",
    "        ###Validation\n",
    "        model.eval()\n",
    "        valid_loss = 0\n",
    "        \n",
    "        for data in dataloader_v:\n",
    "            img, mask = data\n",
    "            img = img.to(DEVICE)\n",
    "            mask = mask.to(DEVICE)\n",
    "        \n",
    "            outputs = model(img)\n",
    "    \n",
    "            loss = diceloss(outputs, mask)\n",
    "        \n",
    "            valid_loss += loss.item()\n",
    "        valid_loss /= len(dataloader_v)\n",
    "        \n",
    "        print(f\"FOLD: {fold}, EPOCH: {epoch + 1}, valid_loss: {valid_loss}\")\n",
    "        \n",
    "        \n",
    "    ###Save model\n",
    "    torch.save(model.state_dict(), f\"FOLD{fold}_.pth\")\n",
    "    \n",
    "    cv_score += valid_loss\n",
    "    \n",
    "cv_score = cv_score/nfolds"
   ]
  },
  {
   "cell_type": "code",
   "execution_count": 26,
   "metadata": {
    "execution": {
     "iopub.execute_input": "2021-04-24T12:02:15.129079Z",
     "iopub.status.busy": "2021-04-24T12:02:15.128474Z",
     "iopub.status.idle": "2021-04-24T12:02:15.131444Z",
     "shell.execute_reply": "2021-04-24T12:02:15.131867Z"
    },
    "papermill": {
     "duration": 0.278856,
     "end_time": "2021-04-24T12:02:15.131981",
     "exception": false,
     "start_time": "2021-04-24T12:02:14.853125",
     "status": "completed"
    },
    "tags": []
   },
   "outputs": [
    {
     "name": "stdout",
     "output_type": "stream",
     "text": [
      "CV score is: 0.5707012886456739\n"
     ]
    }
   ],
   "source": [
    "print(f\"CV score is: {cv_score}\")"
   ]
  },
  {
   "cell_type": "markdown",
   "metadata": {},
   "source": [
    "## Testing continued in part 3.\n",
    "## Thank you!"
   ]
  },
  {
   "cell_type": "markdown",
   "metadata": {},
   "source": [
    "### Train & Validation plots - 5 folds - 10 epoch "
   ]
  },
  {
   "cell_type": "code",
   "execution_count": 37,
   "metadata": {},
   "outputs": [
    {
     "data": {
      "image/png": "[encoded data removed]",
      "text/plain": [
       "<Figure size 720x360 with 1 Axes>"
      ]
     },
     "metadata": {
      "needs_background": "light"
     },
     "output_type": "display_data"
    }
   ],
   "source": [
    "#after each fold - final train & valid loss plots\n",
    "train_loss = [0.5343406433644502,0.6255425870418548,0.5113066129568147,0.5369952408278861,0.49729455587191457]\n",
    "valid_loss = [0.558415113583855,0.698564738035202,0.5466506873689047,0.5432738385549406,0.5066020656854678]\n",
    "folds_ = [1,2,3,4,5]\n",
    "\n",
    "plt.figure(figsize=(10,5))\n",
    "#train_loss_val = np.arange(len(train_loss))\n",
    "plt.plot(folds_,train_loss)\n",
    "plt.title('Train loss - Dice loss (1-dice score)')\n",
    "plt.show()\n",
    "\n",
    "#plt.figure(figsize=(10,5))\n",
    "#n_e = np.arange(len(dice_list))\n",
    "#plt.plot(n_e, dice_list)\n",
    "#plt.title('Train diece ')"
   ]
  },
  {
   "cell_type": "code",
   "execution_count": 36,
   "metadata": {},
   "outputs": [
    {
     "data": {
      "image/png": "[encoded data removed]",
      "text/plain": [
       "<Figure size 720x360 with 1 Axes>"
      ]
     },
     "metadata": {
      "needs_background": "light"
     },
     "output_type": "display_data"
    }
   ],
   "source": [
    "plt.figure(figsize=(10,5))\n",
    "plt.plot(folds_,valid_loss)\n",
    "plt.title('Validation loss - Dice loss (1-dice score)')\n",
    "plt.show()"
   ]
  },
  {
   "cell_type": "code",
   "execution_count": null,
   "metadata": {},
   "outputs": [],
   "source": []
  }
 ],
 "metadata": {
  "kernelspec": {
   "display_name": "Python 3",
   "language": "python",
   "name": "python3"
  },
  "language_info": {
   "codemirror_mode": {
    "name": "ipython",
    "version": 3
   },
   "file_extension": ".py",
   "mimetype": "text/x-python",
   "name": "python",
   "nbconvert_exporter": "python",
   "pygments_lexer": "ipython3",
   "version": "3.7.11"
  },
  "papermill": {
   "duration": 27758.924206,
   "end_time": "2021-04-24T12:02:19.478010",
   "environment_variables": {},
   "exception": null,
   "input_path": "__notebook__.ipynb",
   "output_path": "__notebook__.ipynb",
   "parameters": {},
   "start_time": "2021-04-24T04:19:40.553804",
   "version": "2.1.0"
  },
  "widgets": {
   "application/vnd.jupyter.widget-state+json": {
    "state": {
     "04e5141f163b4a7b87f5d00629167246": {
      "model_module": "@jupyter-widgets/base",
      "model_module_version": "1.2.0",
      "model_name": "LayoutModel",
      "state": {
       "_model_module": "@jupyter-widgets/base",
       "_model_module_version": "1.2.0",
       "_model_name": "LayoutModel",
       "_view_count": null,
       "_view_module": "@jupyter-widgets/base",
       "_view_module_version": "1.2.0",
       "_view_name": "LayoutView",
       "align_content": null,
       "align_items": null,
       "align_self": null,
       "border": null,
       "bottom": null,
       "display": null,
       "flex": null,
       "flex_flow": null,
       "grid_area": null,
       "grid_auto_columns": null,
       "grid_auto_flow": null,
       "grid_auto_rows": null,
       "grid_column": null,
       "grid_gap": null,
       "grid_row": null,
       "grid_template_areas": null,
       "grid_template_columns": null,
       "grid_template_rows": null,
       "height": null,
       "justify_content": null,
       "justify_items": null,
       "left": null,
       "margin": null,
       "max_height": null,
       "max_width": null,
       "min_height": null,
       "min_width": null,
       "object_fit": null,
       "object_position": null,
       "order": null,
       "overflow": null,
       "overflow_x": null,
       "overflow_y": null,
       "padding": null,
       "right": null,
       "top": null,
       "visibility": null,
       "width": null
      }
     },
     "09d7819412714d61919be10171865524": {
      "model_module": "@jupyter-widgets/base",
      "model_module_version": "1.2.0",
      "model_name": "LayoutModel",
      "state": {
       "_model_module": "@jupyter-widgets/base",
       "_model_module_version": "1.2.0",
       "_model_name": "LayoutModel",
       "_view_count": null,
       "_view_module": "@jupyter-widgets/base",
       "_view_module_version": "1.2.0",
       "_view_name": "LayoutView",
       "align_content": null,
       "align_items": null,
       "align_self": null,
       "border": null,
       "bottom": null,
       "display": null,
       "flex": null,
       "flex_flow": null,
       "grid_area": null,
       "grid_auto_columns": null,
       "grid_auto_flow": null,
       "grid_auto_rows": null,
       "grid_column": null,
       "grid_gap": null,
       "grid_row": null,
       "grid_template_areas": null,
       "grid_template_columns": null,
       "grid_template_rows": null,
       "height": null,
       "justify_content": null,
       "justify_items": null,
       "left": null,
       "margin": null,
       "max_height": null,
       "max_width": null,
       "min_height": null,
       "min_width": null,
       "object_fit": null,
       "object_position": null,
       "order": null,
       "overflow": null,
       "overflow_x": null,
       "overflow_y": null,
       "padding": null,
       "right": null,
       "top": null,
       "visibility": null,
       "width": null
      }
     },
     "0c0015bc7b1947ae8a25e96f0b157560": {
      "model_module": "@jupyter-widgets/controls",
      "model_module_version": "1.5.0",
      "model_name": "HBoxModel",
      "state": {
       "_dom_classes": [],
       "_model_module": "@jupyter-widgets/controls",
       "_model_module_version": "1.5.0",
       "_model_name": "HBoxModel",
       "_view_count": null,
       "_view_module": "@jupyter-widgets/controls",
       "_view_module_version": "1.5.0",
       "_view_name": "HBoxView",
       "box_style": "",
       "children": [
        "IPY_MODEL_a4c3302a3a2446099c8ba883efbf9d74",
        "IPY_MODEL_cfdb0989b8124f5785b282e7fe0c3a81"
       ],
       "layout": "IPY_MODEL_add115614b4b4e29ab7e6aa87950cf45"
      }
     },
     "14b6c36154694fd28979de7cb150bf69": {
      "model_module": "@jupyter-widgets/base",
      "model_module_version": "1.2.0",
      "model_name": "LayoutModel",
      "state": {
       "_model_module": "@jupyter-widgets/base",
       "_model_module_version": "1.2.0",
       "_model_name": "LayoutModel",
       "_view_count": null,
       "_view_module": "@jupyter-widgets/base",
       "_view_module_version": "1.2.0",
       "_view_name": "LayoutView",
       "align_content": null,
       "align_items": null,
       "align_self": null,
       "border": null,
       "bottom": null,
       "display": null,
       "flex": null,
       "flex_flow": null,
       "grid_area": null,
       "grid_auto_columns": null,
       "grid_auto_flow": null,
       "grid_auto_rows": null,
       "grid_column": null,
       "grid_gap": null,
       "grid_row": null,
       "grid_template_areas": null,
       "grid_template_columns": null,
       "grid_template_rows": null,
       "height": null,
       "justify_content": null,
       "justify_items": null,
       "left": null,
       "margin": null,
       "max_height": null,
       "max_width": null,
       "min_height": null,
       "min_width": null,
       "object_fit": null,
       "object_position": null,
       "order": null,
       "overflow": null,
       "overflow_x": null,
       "overflow_y": null,
       "padding": null,
       "right": null,
       "top": null,
       "visibility": null,
       "width": null
      }
     },
     "182ba13227774cc398c93fdcb2b4611c": {
      "model_module": "@jupyter-widgets/controls",
      "model_module_version": "1.5.0",
      "model_name": "DescriptionStyleModel",
      "state": {
       "_model_module": "@jupyter-widgets/controls",
       "_model_module_version": "1.5.0",
       "_model_name": "DescriptionStyleModel",
       "_view_count": null,
       "_view_module": "@jupyter-widgets/base",
       "_view_module_version": "1.2.0",
       "_view_name": "StyleView",
       "description_width": ""
      }
     },
     "1c648f529aea4744aed9ce0eb04d2312": {
      "model_module": "@jupyter-widgets/base",
      "model_module_version": "1.2.0",
      "model_name": "LayoutModel",
      "state": {
       "_model_module": "@jupyter-widgets/base",
       "_model_module_version": "1.2.0",
       "_model_name": "LayoutModel",
       "_view_count": null,
       "_view_module": "@jupyter-widgets/base",
       "_view_module_version": "1.2.0",
       "_view_name": "LayoutView",
       "align_content": null,
       "align_items": null,
       "align_self": null,
       "border": null,
       "bottom": null,
       "display": null,
       "flex": null,
       "flex_flow": null,
       "grid_area": null,
       "grid_auto_columns": null,
       "grid_auto_flow": null,
       "grid_auto_rows": null,
       "grid_column": null,
       "grid_gap": null,
       "grid_row": null,
       "grid_template_areas": null,
       "grid_template_columns": null,
       "grid_template_rows": null,
       "height": null,
       "justify_content": null,
       "justify_items": null,
       "left": null,
       "margin": null,
       "max_height": null,
       "max_width": null,
       "min_height": null,
       "min_width": null,
       "object_fit": null,
       "object_position": null,
       "order": null,
       "overflow": null,
       "overflow_x": null,
       "overflow_y": null,
       "padding": null,
       "right": null,
       "top": null,
       "visibility": null,
       "width": null
      }
     },
     "1dd81a150d4041858ae38801cc19a129": {
      "model_module": "@jupyter-widgets/base",
      "model_module_version": "1.2.0",
      "model_name": "LayoutModel",
      "state": {
       "_model_module": "@jupyter-widgets/base",
       "_model_module_version": "1.2.0",
       "_model_name": "LayoutModel",
       "_view_count": null,
       "_view_module": "@jupyter-widgets/base",
       "_view_module_version": "1.2.0",
       "_view_name": "LayoutView",
       "align_content": null,
       "align_items": null,
       "align_self": null,
       "border": null,
       "bottom": null,
       "display": null,
       "flex": null,
       "flex_flow": null,
       "grid_area": null,
       "grid_auto_columns": null,
       "grid_auto_flow": null,
       "grid_auto_rows": null,
       "grid_column": null,
       "grid_gap": null,
       "grid_row": null,
       "grid_template_areas": null,
       "grid_template_columns": null,
       "grid_template_rows": null,
       "height": null,
       "justify_content": null,
       "justify_items": null,
       "left": null,
       "margin": null,
       "max_height": null,
       "max_width": null,
       "min_height": null,
       "min_width": null,
       "object_fit": null,
       "object_position": null,
       "order": null,
       "overflow": null,
       "overflow_x": null,
       "overflow_y": null,
       "padding": null,
       "right": null,
       "top": null,
       "visibility": null,
       "width": null
      }
     },
     "236103be297f4660adf6ec6433e39d30": {
      "model_module": "@jupyter-widgets/controls",
      "model_module_version": "1.5.0",
      "model_name": "FloatProgressModel",
      "state": {
       "_dom_classes": [],
       "_model_module": "@jupyter-widgets/controls",
       "_model_module_version": "1.5.0",
       "_model_name": "FloatProgressModel",
       "_view_count": null,
       "_view_module": "@jupyter-widgets/controls",
       "_view_module_version": "1.5.0",
       "_view_name": "ProgressView",
       "bar_style": "success",
       "description": "100%",
       "description_tooltip": null,
       "layout": "IPY_MODEL_c5f096f63d0c45578fd66d800cc49ccb",
       "max": 15,
       "min": 0,
       "orientation": "horizontal",
       "style": "IPY_MODEL_462808c508994abc8c86f527e94d2736",
       "value": 15
      }
     },
     "3286eadff9a245ddb1b3c2c03570e7ef": {
      "model_module": "@jupyter-widgets/controls",
      "model_module_version": "1.5.0",
      "model_name": "HBoxModel",
      "state": {
       "_dom_classes": [],
       "_model_module": "@jupyter-widgets/controls",
       "_model_module_version": "1.5.0",
       "_model_name": "HBoxModel",
       "_view_count": null,
       "_view_module": "@jupyter-widgets/controls",
       "_view_module_version": "1.5.0",
       "_view_name": "HBoxView",
       "box_style": "",
       "children": [
        "IPY_MODEL_236103be297f4660adf6ec6433e39d30",
        "IPY_MODEL_58ef95445928440ab93138af0b1fb7f2"
       ],
       "layout": "IPY_MODEL_454c26532c264e1a983e476b521f3c98"
      }
     },
     "3c440125dfa440fc938d1680f9bac5f7": {
      "model_module": "@jupyter-widgets/base",
      "model_module_version": "1.2.0",
      "model_name": "LayoutModel",
      "state": {
       "_model_module": "@jupyter-widgets/base",
       "_model_module_version": "1.2.0",
       "_model_name": "LayoutModel",
       "_view_count": null,
       "_view_module": "@jupyter-widgets/base",
       "_view_module_version": "1.2.0",
       "_view_name": "LayoutView",
       "align_content": null,
       "align_items": null,
       "align_self": null,
       "border": null,
       "bottom": null,
       "display": null,
       "flex": null,
       "flex_flow": null,
       "grid_area": null,
       "grid_auto_columns": null,
       "grid_auto_flow": null,
       "grid_auto_rows": null,
       "grid_column": null,
       "grid_gap": null,
       "grid_row": null,
       "grid_template_areas": null,
       "grid_template_columns": null,
       "grid_template_rows": null,
       "height": null,
       "justify_content": null,
       "justify_items": null,
       "left": null,
       "margin": null,
       "max_height": null,
       "max_width": null,
       "min_height": null,
       "min_width": null,
       "object_fit": null,
       "object_position": null,
       "order": null,
       "overflow": null,
       "overflow_x": null,
       "overflow_y": null,
       "padding": null,
       "right": null,
       "top": null,
       "visibility": null,
       "width": null
      }
     },
     "41be87a69bb74c438905881e1496f45e": {
      "model_module": "@jupyter-widgets/controls",
      "model_module_version": "1.5.0",
      "model_name": "ProgressStyleModel",
      "state": {
       "_model_module": "@jupyter-widgets/controls",
       "_model_module_version": "1.5.0",
       "_model_name": "ProgressStyleModel",
       "_view_count": null,
       "_view_module": "@jupyter-widgets/base",
       "_view_module_version": "1.2.0",
       "_view_name": "StyleView",
       "bar_color": null,
       "description_width": "initial"
      }
     },
     "444cdf614a1149a2b52146d9f4cdaaf1": {
      "model_module": "@jupyter-widgets/controls",
      "model_module_version": "1.5.0",
      "model_name": "HTMLModel",
      "state": {
       "_dom_classes": [],
       "_model_module": "@jupyter-widgets/controls",
       "_model_module_version": "1.5.0",
       "_model_name": "HTMLModel",
       "_view_count": null,
       "_view_module": "@jupyter-widgets/controls",
       "_view_module_version": "1.5.0",
       "_view_name": "HTMLView",
       "description": "",
       "description_tooltip": null,
       "layout": "IPY_MODEL_8d8f7fd582d64647be0320d016d3fa87",
       "placeholder": "​",
       "style": "IPY_MODEL_894df216f8404fc4872a2f7efadffc73",
       "value": " 15/15 [1:32:00&lt;00:00, 368.04s/it]"
      }
     },
     "454c26532c264e1a983e476b521f3c98": {
      "model_module": "@jupyter-widgets/base",
      "model_module_version": "1.2.0",
      "model_name": "LayoutModel",
      "state": {
       "_model_module": "@jupyter-widgets/base",
       "_model_module_version": "1.2.0",
       "_model_name": "LayoutModel",
       "_view_count": null,
       "_view_module": "@jupyter-widgets/base",
       "_view_module_version": "1.2.0",
       "_view_name": "LayoutView",
       "align_content": null,
       "align_items": null,
       "align_self": null,
       "border": null,
       "bottom": null,
       "display": null,
       "flex": null,
       "flex_flow": null,
       "grid_area": null,
       "grid_auto_columns": null,
       "grid_auto_flow": null,
       "grid_auto_rows": null,
       "grid_column": null,
       "grid_gap": null,
       "grid_row": null,
       "grid_template_areas": null,
       "grid_template_columns": null,
       "grid_template_rows": null,
       "height": null,
       "justify_content": null,
       "justify_items": null,
       "left": null,
       "margin": null,
       "max_height": null,
       "max_width": null,
       "min_height": null,
       "min_width": null,
       "object_fit": null,
       "object_position": null,
       "order": null,
       "overflow": null,
       "overflow_x": null,
       "overflow_y": null,
       "padding": null,
       "right": null,
       "top": null,
       "visibility": null,
       "width": null
      }
     },
     "462808c508994abc8c86f527e94d2736": {
      "model_module": "@jupyter-widgets/controls",
      "model_module_version": "1.5.0",
      "model_name": "ProgressStyleModel",
      "state": {
       "_model_module": "@jupyter-widgets/controls",
       "_model_module_version": "1.5.0",
       "_model_name": "ProgressStyleModel",
       "_view_count": null,
       "_view_module": "@jupyter-widgets/base",
       "_view_module_version": "1.2.0",
       "_view_name": "StyleView",
       "bar_color": null,
       "description_width": "initial"
      }
     },
     "47b4cbe71cc7405eb5394ca126666adf": {
      "model_module": "@jupyter-widgets/base",
      "model_module_version": "1.2.0",
      "model_name": "LayoutModel",
      "state": {
       "_model_module": "@jupyter-widgets/base",
       "_model_module_version": "1.2.0",
       "_model_name": "LayoutModel",
       "_view_count": null,
       "_view_module": "@jupyter-widgets/base",
       "_view_module_version": "1.2.0",
       "_view_name": "LayoutView",
       "align_content": null,
       "align_items": null,
       "align_self": null,
       "border": null,
       "bottom": null,
       "display": null,
       "flex": null,
       "flex_flow": null,
       "grid_area": null,
       "grid_auto_columns": null,
       "grid_auto_flow": null,
       "grid_auto_rows": null,
       "grid_column": null,
       "grid_gap": null,
       "grid_row": null,
       "grid_template_areas": null,
       "grid_template_columns": null,
       "grid_template_rows": null,
       "height": null,
       "justify_content": null,
       "justify_items": null,
       "left": null,
       "margin": null,
       "max_height": null,
       "max_width": null,
       "min_height": null,
       "min_width": null,
       "object_fit": null,
       "object_position": null,
       "order": null,
       "overflow": null,
       "overflow_x": null,
       "overflow_y": null,
       "padding": null,
       "right": null,
       "top": null,
       "visibility": null,
       "width": null
      }
     },
     "53469c048a4049d0926fae2ef09d4226": {
      "model_module": "@jupyter-widgets/base",
      "model_module_version": "1.2.0",
      "model_name": "LayoutModel",
      "state": {
       "_model_module": "@jupyter-widgets/base",
       "_model_module_version": "1.2.0",
       "_model_name": "LayoutModel",
       "_view_count": null,
       "_view_module": "@jupyter-widgets/base",
       "_view_module_version": "1.2.0",
       "_view_name": "LayoutView",
       "align_content": null,
       "align_items": null,
       "align_self": null,
       "border": null,
       "bottom": null,
       "display": null,
       "flex": null,
       "flex_flow": null,
       "grid_area": null,
       "grid_auto_columns": null,
       "grid_auto_flow": null,
       "grid_auto_rows": null,
       "grid_column": null,
       "grid_gap": null,
       "grid_row": null,
       "grid_template_areas": null,
       "grid_template_columns": null,
       "grid_template_rows": null,
       "height": null,
       "justify_content": null,
       "justify_items": null,
       "left": null,
       "margin": null,
       "max_height": null,
       "max_width": null,
       "min_height": null,
       "min_width": null,
       "object_fit": null,
       "object_position": null,
       "order": null,
       "overflow": null,
       "overflow_x": null,
       "overflow_y": null,
       "padding": null,
       "right": null,
       "top": null,
       "visibility": null,
       "width": null
      }
     },
     "58ef95445928440ab93138af0b1fb7f2": {
      "model_module": "@jupyter-widgets/controls",
      "model_module_version": "1.5.0",
      "model_name": "HTMLModel",
      "state": {
       "_dom_classes": [],
       "_model_module": "@jupyter-widgets/controls",
       "_model_module_version": "1.5.0",
       "_model_name": "HTMLModel",
       "_view_count": null,
       "_view_module": "@jupyter-widgets/controls",
       "_view_module_version": "1.5.0",
       "_view_name": "HTMLView",
       "description": "",
       "description_tooltip": null,
       "layout": "IPY_MODEL_6f21647825ac4b24889a414c803c79f5",
       "placeholder": "​",
       "style": "IPY_MODEL_adb2ca3b035b403a9f5b5ff646115269",
       "value": " 15/15 [2:12:40&lt;00:00, 530.70s/it]"
      }
     },
     "5b1b490a32534f9caba362119dcdda06": {
      "model_module": "@jupyter-widgets/base",
      "model_module_version": "1.2.0",
      "model_name": "LayoutModel",
      "state": {
       "_model_module": "@jupyter-widgets/base",
       "_model_module_version": "1.2.0",
       "_model_name": "LayoutModel",
       "_view_count": null,
       "_view_module": "@jupyter-widgets/base",
       "_view_module_version": "1.2.0",
       "_view_name": "LayoutView",
       "align_content": null,
       "align_items": null,
       "align_self": null,
       "border": null,
       "bottom": null,
       "display": null,
       "flex": null,
       "flex_flow": null,
       "grid_area": null,
       "grid_auto_columns": null,
       "grid_auto_flow": null,
       "grid_auto_rows": null,
       "grid_column": null,
       "grid_gap": null,
       "grid_row": null,
       "grid_template_areas": null,
       "grid_template_columns": null,
       "grid_template_rows": null,
       "height": null,
       "justify_content": null,
       "justify_items": null,
       "left": null,
       "margin": null,
       "max_height": null,
       "max_width": null,
       "min_height": null,
       "min_width": null,
       "object_fit": null,
       "object_position": null,
       "order": null,
       "overflow": null,
       "overflow_x": null,
       "overflow_y": null,
       "padding": null,
       "right": null,
       "top": null,
       "visibility": null,
       "width": null
      }
     },
     "5c14e78896674c5498a73602f7eaaf84": {
      "model_module": "@jupyter-widgets/controls",
      "model_module_version": "1.5.0",
      "model_name": "HBoxModel",
      "state": {
       "_dom_classes": [],
       "_model_module": "@jupyter-widgets/controls",
       "_model_module_version": "1.5.0",
       "_model_name": "HBoxModel",
       "_view_count": null,
       "_view_module": "@jupyter-widgets/controls",
       "_view_module_version": "1.5.0",
       "_view_name": "HBoxView",
       "box_style": "",
       "children": [
        "IPY_MODEL_63e4ca222ac84b75b3c73fb0d31e26e2",
        "IPY_MODEL_eef64f68a8ef4794abb097fa193d2cc9"
       ],
       "layout": "IPY_MODEL_14b6c36154694fd28979de7cb150bf69"
      }
     },
     "621c8aa53a814ce1b83844cbc6d63fab": {
      "model_module": "@jupyter-widgets/controls",
      "model_module_version": "1.5.0",
      "model_name": "ProgressStyleModel",
      "state": {
       "_model_module": "@jupyter-widgets/controls",
       "_model_module_version": "1.5.0",
       "_model_name": "ProgressStyleModel",
       "_view_count": null,
       "_view_module": "@jupyter-widgets/base",
       "_view_module_version": "1.2.0",
       "_view_name": "StyleView",
       "bar_color": null,
       "description_width": "initial"
      }
     },
     "63e4ca222ac84b75b3c73fb0d31e26e2": {
      "model_module": "@jupyter-widgets/controls",
      "model_module_version": "1.5.0",
      "model_name": "FloatProgressModel",
      "state": {
       "_dom_classes": [],
       "_model_module": "@jupyter-widgets/controls",
       "_model_module_version": "1.5.0",
       "_model_name": "FloatProgressModel",
       "_view_count": null,
       "_view_module": "@jupyter-widgets/controls",
       "_view_module_version": "1.5.0",
       "_view_name": "ProgressView",
       "bar_style": "success",
       "description": "100%",
       "description_tooltip": null,
       "layout": "IPY_MODEL_47b4cbe71cc7405eb5394ca126666adf",
       "max": 15,
       "min": 0,
       "orientation": "horizontal",
       "style": "IPY_MODEL_80beae1a6f6d443786ef1679ce707c17",
       "value": 15
      }
     },
     "6b4f04d00ff34fbbb855b19c360c90be": {
      "model_module": "@jupyter-widgets/base",
      "model_module_version": "1.2.0",
      "model_name": "LayoutModel",
      "state": {
       "_model_module": "@jupyter-widgets/base",
       "_model_module_version": "1.2.0",
       "_model_name": "LayoutModel",
       "_view_count": null,
       "_view_module": "@jupyter-widgets/base",
       "_view_module_version": "1.2.0",
       "_view_name": "LayoutView",
       "align_content": null,
       "align_items": null,
       "align_self": null,
       "border": null,
       "bottom": null,
       "display": null,
       "flex": null,
       "flex_flow": null,
       "grid_area": null,
       "grid_auto_columns": null,
       "grid_auto_flow": null,
       "grid_auto_rows": null,
       "grid_column": null,
       "grid_gap": null,
       "grid_row": null,
       "grid_template_areas": null,
       "grid_template_columns": null,
       "grid_template_rows": null,
       "height": null,
       "justify_content": null,
       "justify_items": null,
       "left": null,
       "margin": null,
       "max_height": null,
       "max_width": null,
       "min_height": null,
       "min_width": null,
       "object_fit": null,
       "object_position": null,
       "order": null,
       "overflow": null,
       "overflow_x": null,
       "overflow_y": null,
       "padding": null,
       "right": null,
       "top": null,
       "visibility": null,
       "width": null
      }
     },
     "6f21647825ac4b24889a414c803c79f5": {
      "model_module": "@jupyter-widgets/base",
      "model_module_version": "1.2.0",
      "model_name": "LayoutModel",
      "state": {
       "_model_module": "@jupyter-widgets/base",
       "_model_module_version": "1.2.0",
       "_model_name": "LayoutModel",
       "_view_count": null,
       "_view_module": "@jupyter-widgets/base",
       "_view_module_version": "1.2.0",
       "_view_name": "LayoutView",
       "align_content": null,
       "align_items": null,
       "align_self": null,
       "border": null,
       "bottom": null,
       "display": null,
       "flex": null,
       "flex_flow": null,
       "grid_area": null,
       "grid_auto_columns": null,
       "grid_auto_flow": null,
       "grid_auto_rows": null,
       "grid_column": null,
       "grid_gap": null,
       "grid_row": null,
       "grid_template_areas": null,
       "grid_template_columns": null,
       "grid_template_rows": null,
       "height": null,
       "justify_content": null,
       "justify_items": null,
       "left": null,
       "margin": null,
       "max_height": null,
       "max_width": null,
       "min_height": null,
       "min_width": null,
       "object_fit": null,
       "object_position": null,
       "order": null,
       "overflow": null,
       "overflow_x": null,
       "overflow_y": null,
       "padding": null,
       "right": null,
       "top": null,
       "visibility": null,
       "width": null
      }
     },
     "742a42c98fbb4e47a91dea7801af2e4e": {
      "model_module": "@jupyter-widgets/controls",
      "model_module_version": "1.5.0",
      "model_name": "HTMLModel",
      "state": {
       "_dom_classes": [],
       "_model_module": "@jupyter-widgets/controls",
       "_model_module_version": "1.5.0",
       "_model_name": "HTMLModel",
       "_view_count": null,
       "_view_module": "@jupyter-widgets/controls",
       "_view_module_version": "1.5.0",
       "_view_name": "HTMLView",
       "description": "",
       "description_tooltip": null,
       "layout": "IPY_MODEL_c9eb4fabb599442391f5dc504f979854",
       "placeholder": "​",
       "style": "IPY_MODEL_182ba13227774cc398c93fdcb2b4611c",
       "value": " 47.1M/47.1M [00:00&lt;00:00, 86.0MB/s]"
      }
     },
     "80beae1a6f6d443786ef1679ce707c17": {
      "model_module": "@jupyter-widgets/controls",
      "model_module_version": "1.5.0",
      "model_name": "ProgressStyleModel",
      "state": {
       "_model_module": "@jupyter-widgets/controls",
       "_model_module_version": "1.5.0",
       "_model_name": "ProgressStyleModel",
       "_view_count": null,
       "_view_module": "@jupyter-widgets/base",
       "_view_module_version": "1.2.0",
       "_view_name": "StyleView",
       "bar_color": null,
       "description_width": "initial"
      }
     },
     "818a70a157094d059961e224739a6bcf": {
      "model_module": "@jupyter-widgets/controls",
      "model_module_version": "1.5.0",
      "model_name": "ProgressStyleModel",
      "state": {
       "_model_module": "@jupyter-widgets/controls",
       "_model_module_version": "1.5.0",
       "_model_name": "ProgressStyleModel",
       "_view_count": null,
       "_view_module": "@jupyter-widgets/base",
       "_view_module_version": "1.2.0",
       "_view_name": "StyleView",
       "bar_color": null,
       "description_width": "initial"
      }
     },
     "870745a301c0431387fba2230b9dc536": {
      "model_module": "@jupyter-widgets/controls",
      "model_module_version": "1.5.0",
      "model_name": "FloatProgressModel",
      "state": {
       "_dom_classes": [],
       "_model_module": "@jupyter-widgets/controls",
       "_model_module_version": "1.5.0",
       "_model_name": "FloatProgressModel",
       "_view_count": null,
       "_view_module": "@jupyter-widgets/controls",
       "_view_module_version": "1.5.0",
       "_view_name": "ProgressView",
       "bar_style": "success",
       "description": "100%",
       "description_tooltip": null,
       "layout": "IPY_MODEL_3c440125dfa440fc938d1680f9bac5f7",
       "max": 15,
       "min": 0,
       "orientation": "horizontal",
       "style": "IPY_MODEL_818a70a157094d059961e224739a6bcf",
       "value": 15
      }
     },
     "894df216f8404fc4872a2f7efadffc73": {
      "model_module": "@jupyter-widgets/controls",
      "model_module_version": "1.5.0",
      "model_name": "DescriptionStyleModel",
      "state": {
       "_model_module": "@jupyter-widgets/controls",
       "_model_module_version": "1.5.0",
       "_model_name": "DescriptionStyleModel",
       "_view_count": null,
       "_view_module": "@jupyter-widgets/base",
       "_view_module_version": "1.2.0",
       "_view_name": "StyleView",
       "description_width": ""
      }
     },
     "8d8f7fd582d64647be0320d016d3fa87": {
      "model_module": "@jupyter-widgets/base",
      "model_module_version": "1.2.0",
      "model_name": "LayoutModel",
      "state": {
       "_model_module": "@jupyter-widgets/base",
       "_model_module_version": "1.2.0",
       "_model_name": "LayoutModel",
       "_view_count": null,
       "_view_module": "@jupyter-widgets/base",
       "_view_module_version": "1.2.0",
       "_view_name": "LayoutView",
       "align_content": null,
       "align_items": null,
       "align_self": null,
       "border": null,
       "bottom": null,
       "display": null,
       "flex": null,
       "flex_flow": null,
       "grid_area": null,
       "grid_auto_columns": null,
       "grid_auto_flow": null,
       "grid_auto_rows": null,
       "grid_column": null,
       "grid_gap": null,
       "grid_row": null,
       "grid_template_areas": null,
       "grid_template_columns": null,
       "grid_template_rows": null,
       "height": null,
       "justify_content": null,
       "justify_items": null,
       "left": null,
       "margin": null,
       "max_height": null,
       "max_width": null,
       "min_height": null,
       "min_width": null,
       "object_fit": null,
       "object_position": null,
       "order": null,
       "overflow": null,
       "overflow_x": null,
       "overflow_y": null,
       "padding": null,
       "right": null,
       "top": null,
       "visibility": null,
       "width": null
      }
     },
     "8f23e7aa392b4d359cbefd10f5ff213e": {
      "model_module": "@jupyter-widgets/controls",
      "model_module_version": "1.5.0",
      "model_name": "FloatProgressModel",
      "state": {
       "_dom_classes": [],
       "_model_module": "@jupyter-widgets/controls",
       "_model_module_version": "1.5.0",
       "_model_name": "FloatProgressModel",
       "_view_count": null,
       "_view_module": "@jupyter-widgets/controls",
       "_view_module_version": "1.5.0",
       "_view_name": "ProgressView",
       "bar_style": "success",
       "description": "100%",
       "description_tooltip": null,
       "layout": "IPY_MODEL_1c648f529aea4744aed9ce0eb04d2312",
       "max": 49388949,
       "min": 0,
       "orientation": "horizontal",
       "style": "IPY_MODEL_621c8aa53a814ce1b83844cbc6d63fab",
       "value": 49388949
      }
     },
     "a3823657065c4feaa8885983f672cf7e": {
      "model_module": "@jupyter-widgets/controls",
      "model_module_version": "1.5.0",
      "model_name": "HTMLModel",
      "state": {
       "_dom_classes": [],
       "_model_module": "@jupyter-widgets/controls",
       "_model_module_version": "1.5.0",
       "_model_name": "HTMLModel",
       "_view_count": null,
       "_view_module": "@jupyter-widgets/controls",
       "_view_module_version": "1.5.0",
       "_view_name": "HTMLView",
       "description": "",
       "description_tooltip": null,
       "layout": "IPY_MODEL_04e5141f163b4a7b87f5d00629167246",
       "placeholder": "​",
       "style": "IPY_MODEL_cc811ba14b78460b9d29d91c0a7ba0d1",
       "value": " 15/15 [5:19:16&lt;00:00, 1277.12s/it]"
      }
     },
     "a4c3302a3a2446099c8ba883efbf9d74": {
      "model_module": "@jupyter-widgets/controls",
      "model_module_version": "1.5.0",
      "model_name": "FloatProgressModel",
      "state": {
       "_dom_classes": [],
       "_model_module": "@jupyter-widgets/controls",
       "_model_module_version": "1.5.0",
       "_model_name": "FloatProgressModel",
       "_view_count": null,
       "_view_module": "@jupyter-widgets/controls",
       "_view_module_version": "1.5.0",
       "_view_name": "ProgressView",
       "bar_style": "success",
       "description": "100%",
       "description_tooltip": null,
       "layout": "IPY_MODEL_ccc7271fcc9142fe808ef72276215e91",
       "max": 15,
       "min": 0,
       "orientation": "horizontal",
       "style": "IPY_MODEL_ea3caf30bb3f491981b1321fa68c8a7a",
       "value": 15
      }
     },
     "a9e047416e864173bd17ea928dc2ac2c": {
      "model_module": "@jupyter-widgets/controls",
      "model_module_version": "1.5.0",
      "model_name": "DescriptionStyleModel",
      "state": {
       "_model_module": "@jupyter-widgets/controls",
       "_model_module_version": "1.5.0",
       "_model_name": "DescriptionStyleModel",
       "_view_count": null,
       "_view_module": "@jupyter-widgets/base",
       "_view_module_version": "1.2.0",
       "_view_name": "StyleView",
       "description_width": ""
      }
     },
     "adb2ca3b035b403a9f5b5ff646115269": {
      "model_module": "@jupyter-widgets/controls",
      "model_module_version": "1.5.0",
      "model_name": "DescriptionStyleModel",
      "state": {
       "_model_module": "@jupyter-widgets/controls",
       "_model_module_version": "1.5.0",
       "_model_name": "DescriptionStyleModel",
       "_view_count": null,
       "_view_module": "@jupyter-widgets/base",
       "_view_module_version": "1.2.0",
       "_view_name": "StyleView",
       "description_width": ""
      }
     },
     "adc4647b619e43fa9267194e65d31e2c": {
      "model_module": "@jupyter-widgets/controls",
      "model_module_version": "1.5.0",
      "model_name": "HBoxModel",
      "state": {
       "_dom_classes": [],
       "_model_module": "@jupyter-widgets/controls",
       "_model_module_version": "1.5.0",
       "_model_name": "HBoxModel",
       "_view_count": null,
       "_view_module": "@jupyter-widgets/controls",
       "_view_module_version": "1.5.0",
       "_view_name": "HBoxView",
       "box_style": "",
       "children": [
        "IPY_MODEL_8f23e7aa392b4d359cbefd10f5ff213e",
        "IPY_MODEL_742a42c98fbb4e47a91dea7801af2e4e"
       ],
       "layout": "IPY_MODEL_5b1b490a32534f9caba362119dcdda06"
      }
     },
     "add115614b4b4e29ab7e6aa87950cf45": {
      "model_module": "@jupyter-widgets/base",
      "model_module_version": "1.2.0",
      "model_name": "LayoutModel",
      "state": {
       "_model_module": "@jupyter-widgets/base",
       "_model_module_version": "1.2.0",
       "_model_name": "LayoutModel",
       "_view_count": null,
       "_view_module": "@jupyter-widgets/base",
       "_view_module_version": "1.2.0",
       "_view_name": "LayoutView",
       "align_content": null,
       "align_items": null,
       "align_self": null,
       "border": null,
       "bottom": null,
       "display": null,
       "flex": null,
       "flex_flow": null,
       "grid_area": null,
       "grid_auto_columns": null,
       "grid_auto_flow": null,
       "grid_auto_rows": null,
       "grid_column": null,
       "grid_gap": null,
       "grid_row": null,
       "grid_template_areas": null,
       "grid_template_columns": null,
       "grid_template_rows": null,
       "height": null,
       "justify_content": null,
       "justify_items": null,
       "left": null,
       "margin": null,
       "max_height": null,
       "max_width": null,
       "min_height": null,
       "min_width": null,
       "object_fit": null,
       "object_position": null,
       "order": null,
       "overflow": null,
       "overflow_x": null,
       "overflow_y": null,
       "padding": null,
       "right": null,
       "top": null,
       "visibility": null,
       "width": null
      }
     },
     "c5f096f63d0c45578fd66d800cc49ccb": {
      "model_module": "@jupyter-widgets/base",
      "model_module_version": "1.2.0",
      "model_name": "LayoutModel",
      "state": {
       "_model_module": "@jupyter-widgets/base",
       "_model_module_version": "1.2.0",
       "_model_name": "LayoutModel",
       "_view_count": null,
       "_view_module": "@jupyter-widgets/base",
       "_view_module_version": "1.2.0",
       "_view_name": "LayoutView",
       "align_content": null,
       "align_items": null,
       "align_self": null,
       "border": null,
       "bottom": null,
       "display": null,
       "flex": null,
       "flex_flow": null,
       "grid_area": null,
       "grid_auto_columns": null,
       "grid_auto_flow": null,
       "grid_auto_rows": null,
       "grid_column": null,
       "grid_gap": null,
       "grid_row": null,
       "grid_template_areas": null,
       "grid_template_columns": null,
       "grid_template_rows": null,
       "height": null,
       "justify_content": null,
       "justify_items": null,
       "left": null,
       "margin": null,
       "max_height": null,
       "max_width": null,
       "min_height": null,
       "min_width": null,
       "object_fit": null,
       "object_position": null,
       "order": null,
       "overflow": null,
       "overflow_x": null,
       "overflow_y": null,
       "padding": null,
       "right": null,
       "top": null,
       "visibility": null,
       "width": null
      }
     },
     "c9eb4fabb599442391f5dc504f979854": {
      "model_module": "@jupyter-widgets/base",
      "model_module_version": "1.2.0",
      "model_name": "LayoutModel",
      "state": {
       "_model_module": "@jupyter-widgets/base",
       "_model_module_version": "1.2.0",
       "_model_name": "LayoutModel",
       "_view_count": null,
       "_view_module": "@jupyter-widgets/base",
       "_view_module_version": "1.2.0",
       "_view_name": "LayoutView",
       "align_content": null,
       "align_items": null,
       "align_self": null,
       "border": null,
       "bottom": null,
       "display": null,
       "flex": null,
       "flex_flow": null,
       "grid_area": null,
       "grid_auto_columns": null,
       "grid_auto_flow": null,
       "grid_auto_rows": null,
       "grid_column": null,
       "grid_gap": null,
       "grid_row": null,
       "grid_template_areas": null,
       "grid_template_columns": null,
       "grid_template_rows": null,
       "height": null,
       "justify_content": null,
       "justify_items": null,
       "left": null,
       "margin": null,
       "max_height": null,
       "max_width": null,
       "min_height": null,
       "min_width": null,
       "object_fit": null,
       "object_position": null,
       "order": null,
       "overflow": null,
       "overflow_x": null,
       "overflow_y": null,
       "padding": null,
       "right": null,
       "top": null,
       "visibility": null,
       "width": null
      }
     },
     "ca60f68ed3744318983927b20fa9e6ee": {
      "model_module": "@jupyter-widgets/controls",
      "model_module_version": "1.5.0",
      "model_name": "HBoxModel",
      "state": {
       "_dom_classes": [],
       "_model_module": "@jupyter-widgets/controls",
       "_model_module_version": "1.5.0",
       "_model_name": "HBoxModel",
       "_view_count": null,
       "_view_module": "@jupyter-widgets/controls",
       "_view_module_version": "1.5.0",
       "_view_name": "HBoxView",
       "box_style": "",
       "children": [
        "IPY_MODEL_870745a301c0431387fba2230b9dc536",
        "IPY_MODEL_a3823657065c4feaa8885983f672cf7e"
       ],
       "layout": "IPY_MODEL_fb5a2451948a477ca48792e3e64590f5"
      }
     },
     "cc811ba14b78460b9d29d91c0a7ba0d1": {
      "model_module": "@jupyter-widgets/controls",
      "model_module_version": "1.5.0",
      "model_name": "DescriptionStyleModel",
      "state": {
       "_model_module": "@jupyter-widgets/controls",
       "_model_module_version": "1.5.0",
       "_model_name": "DescriptionStyleModel",
       "_view_count": null,
       "_view_module": "@jupyter-widgets/base",
       "_view_module_version": "1.2.0",
       "_view_name": "StyleView",
       "description_width": ""
      }
     },
     "ccc7271fcc9142fe808ef72276215e91": {
      "model_module": "@jupyter-widgets/base",
      "model_module_version": "1.2.0",
      "model_name": "LayoutModel",
      "state": {
       "_model_module": "@jupyter-widgets/base",
       "_model_module_version": "1.2.0",
       "_model_name": "LayoutModel",
       "_view_count": null,
       "_view_module": "@jupyter-widgets/base",
       "_view_module_version": "1.2.0",
       "_view_name": "LayoutView",
       "align_content": null,
       "align_items": null,
       "align_self": null,
       "border": null,
       "bottom": null,
       "display": null,
       "flex": null,
       "flex_flow": null,
       "grid_area": null,
       "grid_auto_columns": null,
       "grid_auto_flow": null,
       "grid_auto_rows": null,
       "grid_column": null,
       "grid_gap": null,
       "grid_row": null,
       "grid_template_areas": null,
       "grid_template_columns": null,
       "grid_template_rows": null,
       "height": null,
       "justify_content": null,
       "justify_items": null,
       "left": null,
       "margin": null,
       "max_height": null,
       "max_width": null,
       "min_height": null,
       "min_width": null,
       "object_fit": null,
       "object_position": null,
       "order": null,
       "overflow": null,
       "overflow_x": null,
       "overflow_y": null,
       "padding": null,
       "right": null,
       "top": null,
       "visibility": null,
       "width": null
      }
     },
     "cfdb0989b8124f5785b282e7fe0c3a81": {
      "model_module": "@jupyter-widgets/controls",
      "model_module_version": "1.5.0",
      "model_name": "HTMLModel",
      "state": {
       "_dom_classes": [],
       "_model_module": "@jupyter-widgets/controls",
       "_model_module_version": "1.5.0",
       "_model_name": "HTMLModel",
       "_view_count": null,
       "_view_module": "@jupyter-widgets/controls",
       "_view_module_version": "1.5.0",
       "_view_name": "HTMLView",
       "description": "",
       "description_tooltip": null,
       "layout": "IPY_MODEL_1dd81a150d4041858ae38801cc19a129",
       "placeholder": "​",
       "style": "IPY_MODEL_ffdc1d5e8c054c3fa9834b4ef8774726",
       "value": " 15/15 [1:50:16&lt;00:00, 441.09s/it]"
      }
     },
     "d1e617aa1f0a4f88a12e368044e8e8ec": {
      "model_module": "@jupyter-widgets/controls",
      "model_module_version": "1.5.0",
      "model_name": "FloatProgressModel",
      "state": {
       "_dom_classes": [],
       "_model_module": "@jupyter-widgets/controls",
       "_model_module_version": "1.5.0",
       "_model_name": "FloatProgressModel",
       "_view_count": null,
       "_view_module": "@jupyter-widgets/controls",
       "_view_module_version": "1.5.0",
       "_view_name": "ProgressView",
       "bar_style": "success",
       "description": "100%",
       "description_tooltip": null,
       "layout": "IPY_MODEL_6b4f04d00ff34fbbb855b19c360c90be",
       "max": 15,
       "min": 0,
       "orientation": "horizontal",
       "style": "IPY_MODEL_41be87a69bb74c438905881e1496f45e",
       "value": 15
      }
     },
     "e29934ee3986487fba7bb849c3b3f5e3": {
      "model_module": "@jupyter-widgets/controls",
      "model_module_version": "1.5.0",
      "model_name": "HBoxModel",
      "state": {
       "_dom_classes": [],
       "_model_module": "@jupyter-widgets/controls",
       "_model_module_version": "1.5.0",
       "_model_name": "HBoxModel",
       "_view_count": null,
       "_view_module": "@jupyter-widgets/controls",
       "_view_module_version": "1.5.0",
       "_view_name": "HBoxView",
       "box_style": "",
       "children": [
        "IPY_MODEL_d1e617aa1f0a4f88a12e368044e8e8ec",
        "IPY_MODEL_444cdf614a1149a2b52146d9f4cdaaf1"
       ],
       "layout": "IPY_MODEL_53469c048a4049d0926fae2ef09d4226"
      }
     },
     "ea3caf30bb3f491981b1321fa68c8a7a": {
      "model_module": "@jupyter-widgets/controls",
      "model_module_version": "1.5.0",
      "model_name": "ProgressStyleModel",
      "state": {
       "_model_module": "@jupyter-widgets/controls",
       "_model_module_version": "1.5.0",
       "_model_name": "ProgressStyleModel",
       "_view_count": null,
       "_view_module": "@jupyter-widgets/base",
       "_view_module_version": "1.2.0",
       "_view_name": "StyleView",
       "bar_color": null,
       "description_width": "initial"
      }
     },
     "eef64f68a8ef4794abb097fa193d2cc9": {
      "model_module": "@jupyter-widgets/controls",
      "model_module_version": "1.5.0",
      "model_name": "HTMLModel",
      "state": {
       "_dom_classes": [],
       "_model_module": "@jupyter-widgets/controls",
       "_model_module_version": "1.5.0",
       "_model_name": "HTMLModel",
       "_view_count": null,
       "_view_module": "@jupyter-widgets/controls",
       "_view_module_version": "1.5.0",
       "_view_name": "HTMLView",
       "description": "",
       "description_tooltip": null,
       "layout": "IPY_MODEL_09d7819412714d61919be10171865524",
       "placeholder": "​",
       "style": "IPY_MODEL_a9e047416e864173bd17ea928dc2ac2c",
       "value": " 15/15 [3:55:41&lt;00:00, 942.78s/it]"
      }
     },
     "fb5a2451948a477ca48792e3e64590f5": {
      "model_module": "@jupyter-widgets/base",
      "model_module_version": "1.2.0",
      "model_name": "LayoutModel",
      "state": {
       "_model_module": "@jupyter-widgets/base",
       "_model_module_version": "1.2.0",
       "_model_name": "LayoutModel",
       "_view_count": null,
       "_view_module": "@jupyter-widgets/base",
       "_view_module_version": "1.2.0",
       "_view_name": "LayoutView",
       "align_content": null,
       "align_items": null,
       "align_self": null,
       "border": null,
       "bottom": null,
       "display": null,
       "flex": null,
       "flex_flow": null,
       "grid_area": null,
       "grid_auto_columns": null,
       "grid_auto_flow": null,
       "grid_auto_rows": null,
       "grid_column": null,
       "grid_gap": null,
       "grid_row": null,
       "grid_template_areas": null,
       "grid_template_columns": null,
       "grid_template_rows": null,
       "height": null,
       "justify_content": null,
       "justify_items": null,
       "left": null,
       "margin": null,
       "max_height": null,
       "max_width": null,
       "min_height": null,
       "min_width": null,
       "object_fit": null,
       "object_position": null,
       "order": null,
       "overflow": null,
       "overflow_x": null,
       "overflow_y": null,
       "padding": null,
       "right": null,
       "top": null,
       "visibility": null,
       "width": null
      }
     },
     "ffdc1d5e8c054c3fa9834b4ef8774726": {
      "model_module": "@jupyter-widgets/controls",
      "model_module_version": "1.5.0",
      "model_name": "DescriptionStyleModel",
      "state": {
       "_model_module": "@jupyter-widgets/controls",
       "_model_module_version": "1.5.0",
       "_model_name": "DescriptionStyleModel",
       "_view_count": null,
       "_view_module": "@jupyter-widgets/base",
       "_view_module_version": "1.2.0",
       "_view_name": "StyleView",
       "description_width": ""
      }
     }
    },
    "version_major": 2,
    "version_minor": 0
   }
  }
 },
 "nbformat": 4,
 "nbformat_minor": 4
}
